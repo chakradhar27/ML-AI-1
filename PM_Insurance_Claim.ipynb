{
 "cells": [
  {
   "cell_type": "markdown",
   "metadata": {},
   "source": [
    "# Section 0: Importing the Data"
   ]
  },
  {
   "cell_type": "code",
   "execution_count": 1,
   "metadata": {
    "id": "I02oQGSYOxvn"
   },
   "outputs": [],
   "source": [
    "import pandas as pd \n",
    "import numpy as np\n",
    "import matplotlib.pyplot as plt"
   ]
  },
  {
   "cell_type": "code",
   "execution_count": 2,
   "metadata": {
    "colab": {
     "base_uri": "https://localhost:8080/",
     "height": 304
    },
    "id": "GRx35AL5bQsp",
    "outputId": "9b5a9c4a-b796-4d94-976e-be6ef741fdd8"
   },
   "outputs": [
    {
     "data": {
      "text/html": [
       "<div>\n",
       "<style scoped>\n",
       "    .dataframe tbody tr th:only-of-type {\n",
       "        vertical-align: middle;\n",
       "    }\n",
       "\n",
       "    .dataframe tbody tr th {\n",
       "        vertical-align: top;\n",
       "    }\n",
       "\n",
       "    .dataframe thead th {\n",
       "        text-align: right;\n",
       "    }\n",
       "</style>\n",
       "<table border=\"1\" class=\"dataframe\">\n",
       "  <thead>\n",
       "    <tr style=\"text-align: right;\">\n",
       "      <th></th>\n",
       "      <th>Row_ID</th>\n",
       "      <th>Household_ID</th>\n",
       "      <th>Vehicle</th>\n",
       "      <th>Calendar_Year</th>\n",
       "      <th>Model_Year</th>\n",
       "      <th>Var1</th>\n",
       "      <th>Var2</th>\n",
       "      <th>Var3</th>\n",
       "      <th>Var4</th>\n",
       "      <th>Var5</th>\n",
       "      <th>Var6</th>\n",
       "      <th>Var7</th>\n",
       "      <th>Var8</th>\n",
       "      <th>NVVar1</th>\n",
       "      <th>NVVar2</th>\n",
       "      <th>NVVar3</th>\n",
       "      <th>NVVar4</th>\n",
       "      <th>Claim_Amount</th>\n",
       "    </tr>\n",
       "  </thead>\n",
       "  <tbody>\n",
       "    <tr>\n",
       "      <th>count</th>\n",
       "      <td>3.000000e+04</td>\n",
       "      <td>3.000000e+04</td>\n",
       "      <td>30000.000000</td>\n",
       "      <td>30000.000000</td>\n",
       "      <td>30000.000000</td>\n",
       "      <td>30000.000000</td>\n",
       "      <td>30000.000000</td>\n",
       "      <td>30000.000000</td>\n",
       "      <td>30000.000000</td>\n",
       "      <td>30000.000000</td>\n",
       "      <td>30000.000000</td>\n",
       "      <td>30000.000000</td>\n",
       "      <td>30000.000000</td>\n",
       "      <td>30000.000000</td>\n",
       "      <td>30000.000000</td>\n",
       "      <td>30000.000000</td>\n",
       "      <td>30000.000000</td>\n",
       "      <td>30000.000000</td>\n",
       "    </tr>\n",
       "    <tr>\n",
       "      <th>mean</th>\n",
       "      <td>5.265666e+06</td>\n",
       "      <td>3.415164e+06</td>\n",
       "      <td>1.869133</td>\n",
       "      <td>2006.118667</td>\n",
       "      <td>1999.505933</td>\n",
       "      <td>-0.006781</td>\n",
       "      <td>-0.063997</td>\n",
       "      <td>-0.025057</td>\n",
       "      <td>-0.053640</td>\n",
       "      <td>0.012070</td>\n",
       "      <td>-0.044910</td>\n",
       "      <td>-0.024929</td>\n",
       "      <td>-0.064832</td>\n",
       "      <td>0.032385</td>\n",
       "      <td>0.071626</td>\n",
       "      <td>0.078748</td>\n",
       "      <td>0.041319</td>\n",
       "      <td>54.862481</td>\n",
       "    </tr>\n",
       "    <tr>\n",
       "      <th>std</th>\n",
       "      <td>3.034083e+06</td>\n",
       "      <td>1.942246e+06</td>\n",
       "      <td>1.150848</td>\n",
       "      <td>0.804947</td>\n",
       "      <td>5.048889</td>\n",
       "      <td>0.976902</td>\n",
       "      <td>0.960495</td>\n",
       "      <td>1.016570</td>\n",
       "      <td>0.959304</td>\n",
       "      <td>0.986830</td>\n",
       "      <td>0.971651</td>\n",
       "      <td>1.000754</td>\n",
       "      <td>0.979235</td>\n",
       "      <td>1.063700</td>\n",
       "      <td>1.148950</td>\n",
       "      <td>1.144502</td>\n",
       "      <td>1.073275</td>\n",
       "      <td>244.230985</td>\n",
       "    </tr>\n",
       "    <tr>\n",
       "      <th>min</th>\n",
       "      <td>1.160000e+03</td>\n",
       "      <td>6.830000e+02</td>\n",
       "      <td>1.000000</td>\n",
       "      <td>2005.000000</td>\n",
       "      <td>1981.000000</td>\n",
       "      <td>-2.578222</td>\n",
       "      <td>-2.441519</td>\n",
       "      <td>-2.744055</td>\n",
       "      <td>-2.457475</td>\n",
       "      <td>-3.350344</td>\n",
       "      <td>-2.300626</td>\n",
       "      <td>-2.262411</td>\n",
       "      <td>-1.882994</td>\n",
       "      <td>-0.231530</td>\n",
       "      <td>-0.266117</td>\n",
       "      <td>-0.272337</td>\n",
       "      <td>-0.251419</td>\n",
       "      <td>0.000000</td>\n",
       "    </tr>\n",
       "    <tr>\n",
       "      <th>25%</th>\n",
       "      <td>2.670346e+06</td>\n",
       "      <td>1.917093e+06</td>\n",
       "      <td>1.000000</td>\n",
       "      <td>2005.000000</td>\n",
       "      <td>1997.000000</td>\n",
       "      <td>-0.665897</td>\n",
       "      <td>-0.816152</td>\n",
       "      <td>-0.869687</td>\n",
       "      <td>-0.783019</td>\n",
       "      <td>-0.662235</td>\n",
       "      <td>-0.688765</td>\n",
       "      <td>-0.898486</td>\n",
       "      <td>-0.646298</td>\n",
       "      <td>-0.231530</td>\n",
       "      <td>-0.266117</td>\n",
       "      <td>-0.272337</td>\n",
       "      <td>-0.251419</td>\n",
       "      <td>0.000000</td>\n",
       "    </tr>\n",
       "    <tr>\n",
       "      <th>50%</th>\n",
       "      <td>5.255290e+06</td>\n",
       "      <td>3.654160e+06</td>\n",
       "      <td>2.000000</td>\n",
       "      <td>2006.000000</td>\n",
       "      <td>2000.000000</td>\n",
       "      <td>-0.320393</td>\n",
       "      <td>-0.124506</td>\n",
       "      <td>-0.221758</td>\n",
       "      <td>-0.106471</td>\n",
       "      <td>-0.115098</td>\n",
       "      <td>-0.241936</td>\n",
       "      <td>-0.468419</td>\n",
       "      <td>-0.269656</td>\n",
       "      <td>-0.231530</td>\n",
       "      <td>-0.266117</td>\n",
       "      <td>-0.272337</td>\n",
       "      <td>-0.251419</td>\n",
       "      <td>0.000000</td>\n",
       "    </tr>\n",
       "    <tr>\n",
       "      <th>75%</th>\n",
       "      <td>7.858568e+06</td>\n",
       "      <td>4.992703e+06</td>\n",
       "      <td>2.000000</td>\n",
       "      <td>2007.000000</td>\n",
       "      <td>2003.000000</td>\n",
       "      <td>0.442930</td>\n",
       "      <td>0.480684</td>\n",
       "      <td>0.726996</td>\n",
       "      <td>0.485509</td>\n",
       "      <td>0.550982</td>\n",
       "      <td>0.500830</td>\n",
       "      <td>0.870931</td>\n",
       "      <td>0.327962</td>\n",
       "      <td>-0.231530</td>\n",
       "      <td>-0.266117</td>\n",
       "      <td>-0.272337</td>\n",
       "      <td>-0.251419</td>\n",
       "      <td>5.905321</td>\n",
       "    </tr>\n",
       "    <tr>\n",
       "      <th>max</th>\n",
       "      <td>1.051789e+07</td>\n",
       "      <td>6.484624e+06</td>\n",
       "      <td>17.000000</td>\n",
       "      <td>2007.000000</td>\n",
       "      <td>2008.000000</td>\n",
       "      <td>4.540768</td>\n",
       "      <td>6.307799</td>\n",
       "      <td>5.563325</td>\n",
       "      <td>6.100857</td>\n",
       "      <td>3.869488</td>\n",
       "      <td>4.584289</td>\n",
       "      <td>4.127148</td>\n",
       "      <td>33.457737</td>\n",
       "      <td>6.627110</td>\n",
       "      <td>8.883081</td>\n",
       "      <td>8.691144</td>\n",
       "      <td>6.388802</td>\n",
       "      <td>11440.750000</td>\n",
       "    </tr>\n",
       "  </tbody>\n",
       "</table>\n",
       "</div>"
      ],
      "text/plain": [
       "             Row_ID  Household_ID       Vehicle  Calendar_Year    Model_Year  \\\n",
       "count  3.000000e+04  3.000000e+04  30000.000000   30000.000000  30000.000000   \n",
       "mean   5.265666e+06  3.415164e+06      1.869133    2006.118667   1999.505933   \n",
       "std    3.034083e+06  1.942246e+06      1.150848       0.804947      5.048889   \n",
       "min    1.160000e+03  6.830000e+02      1.000000    2005.000000   1981.000000   \n",
       "25%    2.670346e+06  1.917093e+06      1.000000    2005.000000   1997.000000   \n",
       "50%    5.255290e+06  3.654160e+06      2.000000    2006.000000   2000.000000   \n",
       "75%    7.858568e+06  4.992703e+06      2.000000    2007.000000   2003.000000   \n",
       "max    1.051789e+07  6.484624e+06     17.000000    2007.000000   2008.000000   \n",
       "\n",
       "               Var1          Var2          Var3          Var4          Var5  \\\n",
       "count  30000.000000  30000.000000  30000.000000  30000.000000  30000.000000   \n",
       "mean      -0.006781     -0.063997     -0.025057     -0.053640      0.012070   \n",
       "std        0.976902      0.960495      1.016570      0.959304      0.986830   \n",
       "min       -2.578222     -2.441519     -2.744055     -2.457475     -3.350344   \n",
       "25%       -0.665897     -0.816152     -0.869687     -0.783019     -0.662235   \n",
       "50%       -0.320393     -0.124506     -0.221758     -0.106471     -0.115098   \n",
       "75%        0.442930      0.480684      0.726996      0.485509      0.550982   \n",
       "max        4.540768      6.307799      5.563325      6.100857      3.869488   \n",
       "\n",
       "               Var6          Var7          Var8        NVVar1        NVVar2  \\\n",
       "count  30000.000000  30000.000000  30000.000000  30000.000000  30000.000000   \n",
       "mean      -0.044910     -0.024929     -0.064832      0.032385      0.071626   \n",
       "std        0.971651      1.000754      0.979235      1.063700      1.148950   \n",
       "min       -2.300626     -2.262411     -1.882994     -0.231530     -0.266117   \n",
       "25%       -0.688765     -0.898486     -0.646298     -0.231530     -0.266117   \n",
       "50%       -0.241936     -0.468419     -0.269656     -0.231530     -0.266117   \n",
       "75%        0.500830      0.870931      0.327962     -0.231530     -0.266117   \n",
       "max        4.584289      4.127148     33.457737      6.627110      8.883081   \n",
       "\n",
       "             NVVar3        NVVar4  Claim_Amount  \n",
       "count  30000.000000  30000.000000  30000.000000  \n",
       "mean       0.078748      0.041319     54.862481  \n",
       "std        1.144502      1.073275    244.230985  \n",
       "min       -0.272337     -0.251419      0.000000  \n",
       "25%       -0.272337     -0.251419      0.000000  \n",
       "50%       -0.272337     -0.251419      0.000000  \n",
       "75%       -0.272337     -0.251419      5.905321  \n",
       "max        8.691144      6.388802  11440.750000  "
      ]
     },
     "execution_count": 2,
     "metadata": {},
     "output_type": "execute_result"
    }
   ],
   "source": [
    "data = pd.read_csv('./data/train.csv', encoding= 'unicode_escape')\n",
    "data.describe()"
   ]
  },
  {
   "cell_type": "code",
   "execution_count": 3,
   "metadata": {
    "colab": {
     "base_uri": "https://localhost:8080/"
    },
    "id": "6irNKkmkQXAJ",
    "outputId": "206b2c63-fdbd-4c8a-97fc-7efd12b643fd"
   },
   "outputs": [
    {
     "name": "stdout",
     "output_type": "stream",
     "text": [
      "<class 'pandas.core.frame.DataFrame'>\n",
      "RangeIndex: 30000 entries, 0 to 29999\n",
      "Data columns (total 35 columns):\n",
      " #   Column          Non-Null Count  Dtype  \n",
      "---  ------          --------------  -----  \n",
      " 0   Row_ID          30000 non-null  int64  \n",
      " 1   Household_ID    30000 non-null  int64  \n",
      " 2   Vehicle         30000 non-null  int64  \n",
      " 3   Calendar_Year   30000 non-null  int64  \n",
      " 4   Model_Year      30000 non-null  int64  \n",
      " 5   Blind_Make      30000 non-null  object \n",
      " 6   Blind_Model     30000 non-null  object \n",
      " 7   Blind_Submodel  30000 non-null  object \n",
      " 8   Cat1            30000 non-null  object \n",
      " 9   Cat2            30000 non-null  object \n",
      " 10  Cat3            30000 non-null  object \n",
      " 11  Cat4            30000 non-null  object \n",
      " 12  Cat5            30000 non-null  object \n",
      " 13  Cat6            30000 non-null  object \n",
      " 14  Cat7            30000 non-null  object \n",
      " 15  Cat8            30000 non-null  object \n",
      " 16  Cat9            30000 non-null  object \n",
      " 17  Cat10           30000 non-null  object \n",
      " 18  Cat11           30000 non-null  object \n",
      " 19  Cat12           29948 non-null  object \n",
      " 20  OrdCat          30000 non-null  object \n",
      " 21  Var1            30000 non-null  float64\n",
      " 22  Var2            30000 non-null  float64\n",
      " 23  Var3            30000 non-null  float64\n",
      " 24  Var4            30000 non-null  float64\n",
      " 25  Var5            30000 non-null  float64\n",
      " 26  Var6            30000 non-null  float64\n",
      " 27  Var7            30000 non-null  float64\n",
      " 28  Var8            30000 non-null  float64\n",
      " 29  NVCat           30000 non-null  object \n",
      " 30  NVVar1          30000 non-null  float64\n",
      " 31  NVVar2          30000 non-null  float64\n",
      " 32  NVVar3          30000 non-null  float64\n",
      " 33  NVVar4          30000 non-null  float64\n",
      " 34  Claim_Amount    30000 non-null  float64\n",
      "dtypes: float64(13), int64(5), object(17)\n",
      "memory usage: 8.0+ MB\n"
     ]
    }
   ],
   "source": [
    "data.info()"
   ]
  },
  {
   "cell_type": "code",
   "execution_count": 4,
   "metadata": {
    "colab": {
     "base_uri": "https://localhost:8080/",
     "height": 363
    },
    "id": "KevBTrXOQsv7",
    "outputId": "6517ab30-fd94-453c-9687-a0b7a25c0cc7"
   },
   "outputs": [
    {
     "data": {
      "text/html": [
       "<div>\n",
       "<style scoped>\n",
       "    .dataframe tbody tr th:only-of-type {\n",
       "        vertical-align: middle;\n",
       "    }\n",
       "\n",
       "    .dataframe tbody tr th {\n",
       "        vertical-align: top;\n",
       "    }\n",
       "\n",
       "    .dataframe thead th {\n",
       "        text-align: right;\n",
       "    }\n",
       "</style>\n",
       "<table border=\"1\" class=\"dataframe\">\n",
       "  <thead>\n",
       "    <tr style=\"text-align: right;\">\n",
       "      <th></th>\n",
       "      <th>Row_ID</th>\n",
       "      <th>Household_ID</th>\n",
       "      <th>Vehicle</th>\n",
       "      <th>Calendar_Year</th>\n",
       "      <th>Model_Year</th>\n",
       "      <th>Blind_Make</th>\n",
       "      <th>Blind_Model</th>\n",
       "      <th>Blind_Submodel</th>\n",
       "      <th>Cat1</th>\n",
       "      <th>Cat2</th>\n",
       "      <th>...</th>\n",
       "      <th>Var5</th>\n",
       "      <th>Var6</th>\n",
       "      <th>Var7</th>\n",
       "      <th>Var8</th>\n",
       "      <th>NVCat</th>\n",
       "      <th>NVVar1</th>\n",
       "      <th>NVVar2</th>\n",
       "      <th>NVVar3</th>\n",
       "      <th>NVVar4</th>\n",
       "      <th>Claim_Amount</th>\n",
       "    </tr>\n",
       "  </thead>\n",
       "  <tbody>\n",
       "    <tr>\n",
       "      <th>0</th>\n",
       "      <td>2718481</td>\n",
       "      <td>1933325</td>\n",
       "      <td>3</td>\n",
       "      <td>2006</td>\n",
       "      <td>1997</td>\n",
       "      <td>R</td>\n",
       "      <td>R.20</td>\n",
       "      <td>R.20.6</td>\n",
       "      <td>B</td>\n",
       "      <td>?</td>\n",
       "      <td>...</td>\n",
       "      <td>-1.054747</td>\n",
       "      <td>-1.164837</td>\n",
       "      <td>-0.812472</td>\n",
       "      <td>-0.581756</td>\n",
       "      <td>N</td>\n",
       "      <td>-0.23153</td>\n",
       "      <td>-0.266117</td>\n",
       "      <td>2.715490</td>\n",
       "      <td>-0.251419</td>\n",
       "      <td>104.597500</td>\n",
       "    </tr>\n",
       "    <tr>\n",
       "      <th>1</th>\n",
       "      <td>6717427</td>\n",
       "      <td>4297298</td>\n",
       "      <td>1</td>\n",
       "      <td>2006</td>\n",
       "      <td>1997</td>\n",
       "      <td>BF</td>\n",
       "      <td>BF.35</td>\n",
       "      <td>BF.35.1</td>\n",
       "      <td>F</td>\n",
       "      <td>?</td>\n",
       "      <td>...</td>\n",
       "      <td>-1.149901</td>\n",
       "      <td>-1.299354</td>\n",
       "      <td>-1.193388</td>\n",
       "      <td>-1.323992</td>\n",
       "      <td>N</td>\n",
       "      <td>-0.23153</td>\n",
       "      <td>2.783616</td>\n",
       "      <td>-0.272337</td>\n",
       "      <td>-0.251419</td>\n",
       "      <td>0.000000</td>\n",
       "    </tr>\n",
       "    <tr>\n",
       "      <th>2</th>\n",
       "      <td>7218252</td>\n",
       "      <td>4708245</td>\n",
       "      <td>1</td>\n",
       "      <td>2006</td>\n",
       "      <td>2000</td>\n",
       "      <td>M</td>\n",
       "      <td>M.16</td>\n",
       "      <td>M.16.1</td>\n",
       "      <td>B</td>\n",
       "      <td>C</td>\n",
       "      <td>...</td>\n",
       "      <td>-0.775231</td>\n",
       "      <td>-1.467792</td>\n",
       "      <td>-0.947636</td>\n",
       "      <td>-0.914860</td>\n",
       "      <td>F</td>\n",
       "      <td>-0.23153</td>\n",
       "      <td>-0.266117</td>\n",
       "      <td>-0.272337</td>\n",
       "      <td>-0.251419</td>\n",
       "      <td>0.000000</td>\n",
       "    </tr>\n",
       "    <tr>\n",
       "      <th>3</th>\n",
       "      <td>8048505</td>\n",
       "      <td>5136981</td>\n",
       "      <td>7</td>\n",
       "      <td>2007</td>\n",
       "      <td>2003</td>\n",
       "      <td>BH</td>\n",
       "      <td>BH.22</td>\n",
       "      <td>BH.22.0</td>\n",
       "      <td>B</td>\n",
       "      <td>C</td>\n",
       "      <td>...</td>\n",
       "      <td>-0.751442</td>\n",
       "      <td>-0.378792</td>\n",
       "      <td>-0.689596</td>\n",
       "      <td>0.730640</td>\n",
       "      <td>M</td>\n",
       "      <td>-0.23153</td>\n",
       "      <td>-0.266117</td>\n",
       "      <td>-0.272337</td>\n",
       "      <td>-0.251419</td>\n",
       "      <td>0.000000</td>\n",
       "    </tr>\n",
       "    <tr>\n",
       "      <th>4</th>\n",
       "      <td>3209482</td>\n",
       "      <td>2151306</td>\n",
       "      <td>5</td>\n",
       "      <td>2006</td>\n",
       "      <td>2001</td>\n",
       "      <td>BW</td>\n",
       "      <td>BW.167</td>\n",
       "      <td>BW.167.0</td>\n",
       "      <td>I</td>\n",
       "      <td>C</td>\n",
       "      <td>...</td>\n",
       "      <td>0.461775</td>\n",
       "      <td>1.451805</td>\n",
       "      <td>1.411586</td>\n",
       "      <td>0.977104</td>\n",
       "      <td>B</td>\n",
       "      <td>-0.23153</td>\n",
       "      <td>-0.266117</td>\n",
       "      <td>-0.272337</td>\n",
       "      <td>-0.251419</td>\n",
       "      <td>0.615937</td>\n",
       "    </tr>\n",
       "    <tr>\n",
       "      <th>5</th>\n",
       "      <td>9961040</td>\n",
       "      <td>6302911</td>\n",
       "      <td>2</td>\n",
       "      <td>2005</td>\n",
       "      <td>1993</td>\n",
       "      <td>D</td>\n",
       "      <td>D.25</td>\n",
       "      <td>D.25.9</td>\n",
       "      <td>A</td>\n",
       "      <td>?</td>\n",
       "      <td>...</td>\n",
       "      <td>1.651204</td>\n",
       "      <td>0.541770</td>\n",
       "      <td>-0.714171</td>\n",
       "      <td>1.234726</td>\n",
       "      <td>O</td>\n",
       "      <td>-0.23153</td>\n",
       "      <td>-0.266117</td>\n",
       "      <td>-0.272337</td>\n",
       "      <td>-0.251419</td>\n",
       "      <td>13.952250</td>\n",
       "    </tr>\n",
       "    <tr>\n",
       "      <th>6</th>\n",
       "      <td>6085714</td>\n",
       "      <td>4085227</td>\n",
       "      <td>2</td>\n",
       "      <td>2006</td>\n",
       "      <td>1994</td>\n",
       "      <td>K</td>\n",
       "      <td>K.13</td>\n",
       "      <td>K.13.8</td>\n",
       "      <td>F</td>\n",
       "      <td>?</td>\n",
       "      <td>...</td>\n",
       "      <td>-1.019064</td>\n",
       "      <td>-1.377724</td>\n",
       "      <td>-1.463716</td>\n",
       "      <td>-0.410227</td>\n",
       "      <td>M</td>\n",
       "      <td>-0.23153</td>\n",
       "      <td>-0.266117</td>\n",
       "      <td>-0.272337</td>\n",
       "      <td>-0.251419</td>\n",
       "      <td>9.438945</td>\n",
       "    </tr>\n",
       "    <tr>\n",
       "      <th>7</th>\n",
       "      <td>9245118</td>\n",
       "      <td>6065885</td>\n",
       "      <td>2</td>\n",
       "      <td>2006</td>\n",
       "      <td>2001</td>\n",
       "      <td>AJ</td>\n",
       "      <td>AJ.123</td>\n",
       "      <td>AJ.123.3</td>\n",
       "      <td>D</td>\n",
       "      <td>C</td>\n",
       "      <td>...</td>\n",
       "      <td>0.628295</td>\n",
       "      <td>-0.003315</td>\n",
       "      <td>0.588315</td>\n",
       "      <td>-0.115739</td>\n",
       "      <td>L</td>\n",
       "      <td>-0.23153</td>\n",
       "      <td>-0.266117</td>\n",
       "      <td>-0.272337</td>\n",
       "      <td>-0.251419</td>\n",
       "      <td>344.256300</td>\n",
       "    </tr>\n",
       "    <tr>\n",
       "      <th>8</th>\n",
       "      <td>1193384</td>\n",
       "      <td>710554</td>\n",
       "      <td>2</td>\n",
       "      <td>2007</td>\n",
       "      <td>2004</td>\n",
       "      <td>Q</td>\n",
       "      <td>Q.22</td>\n",
       "      <td>Q.22.3</td>\n",
       "      <td>B</td>\n",
       "      <td>C</td>\n",
       "      <td>...</td>\n",
       "      <td>1.240851</td>\n",
       "      <td>0.544110</td>\n",
       "      <td>-0.726459</td>\n",
       "      <td>0.206973</td>\n",
       "      <td>O</td>\n",
       "      <td>-0.23153</td>\n",
       "      <td>-0.266117</td>\n",
       "      <td>-0.272337</td>\n",
       "      <td>-0.251419</td>\n",
       "      <td>0.000000</td>\n",
       "    </tr>\n",
       "    <tr>\n",
       "      <th>9</th>\n",
       "      <td>5034979</td>\n",
       "      <td>3146388</td>\n",
       "      <td>7</td>\n",
       "      <td>2006</td>\n",
       "      <td>1995</td>\n",
       "      <td>BW</td>\n",
       "      <td>BW.95</td>\n",
       "      <td>BW.95.0</td>\n",
       "      <td>D</td>\n",
       "      <td>?</td>\n",
       "      <td>...</td>\n",
       "      <td>-0.126992</td>\n",
       "      <td>-0.894634</td>\n",
       "      <td>-0.075216</td>\n",
       "      <td>-1.100282</td>\n",
       "      <td>J</td>\n",
       "      <td>-0.23153</td>\n",
       "      <td>-0.266117</td>\n",
       "      <td>1.968533</td>\n",
       "      <td>1.408637</td>\n",
       "      <td>0.000000</td>\n",
       "    </tr>\n",
       "  </tbody>\n",
       "</table>\n",
       "<p>10 rows × 35 columns</p>\n",
       "</div>"
      ],
      "text/plain": [
       "    Row_ID  Household_ID  Vehicle  Calendar_Year  Model_Year Blind_Make  \\\n",
       "0  2718481       1933325        3           2006        1997          R   \n",
       "1  6717427       4297298        1           2006        1997         BF   \n",
       "2  7218252       4708245        1           2006        2000          M   \n",
       "3  8048505       5136981        7           2007        2003         BH   \n",
       "4  3209482       2151306        5           2006        2001         BW   \n",
       "5  9961040       6302911        2           2005        1993          D   \n",
       "6  6085714       4085227        2           2006        1994          K   \n",
       "7  9245118       6065885        2           2006        2001         AJ   \n",
       "8  1193384        710554        2           2007        2004          Q   \n",
       "9  5034979       3146388        7           2006        1995         BW   \n",
       "\n",
       "  Blind_Model Blind_Submodel Cat1 Cat2  ...      Var5      Var6      Var7  \\\n",
       "0        R.20         R.20.6    B    ?  ... -1.054747 -1.164837 -0.812472   \n",
       "1       BF.35        BF.35.1    F    ?  ... -1.149901 -1.299354 -1.193388   \n",
       "2        M.16         M.16.1    B    C  ... -0.775231 -1.467792 -0.947636   \n",
       "3       BH.22        BH.22.0    B    C  ... -0.751442 -0.378792 -0.689596   \n",
       "4      BW.167       BW.167.0    I    C  ...  0.461775  1.451805  1.411586   \n",
       "5        D.25         D.25.9    A    ?  ...  1.651204  0.541770 -0.714171   \n",
       "6        K.13         K.13.8    F    ?  ... -1.019064 -1.377724 -1.463716   \n",
       "7      AJ.123       AJ.123.3    D    C  ...  0.628295 -0.003315  0.588315   \n",
       "8        Q.22         Q.22.3    B    C  ...  1.240851  0.544110 -0.726459   \n",
       "9       BW.95        BW.95.0    D    ?  ... -0.126992 -0.894634 -0.075216   \n",
       "\n",
       "       Var8 NVCat   NVVar1    NVVar2    NVVar3    NVVar4 Claim_Amount  \n",
       "0 -0.581756     N -0.23153 -0.266117  2.715490 -0.251419   104.597500  \n",
       "1 -1.323992     N -0.23153  2.783616 -0.272337 -0.251419     0.000000  \n",
       "2 -0.914860     F -0.23153 -0.266117 -0.272337 -0.251419     0.000000  \n",
       "3  0.730640     M -0.23153 -0.266117 -0.272337 -0.251419     0.000000  \n",
       "4  0.977104     B -0.23153 -0.266117 -0.272337 -0.251419     0.615937  \n",
       "5  1.234726     O -0.23153 -0.266117 -0.272337 -0.251419    13.952250  \n",
       "6 -0.410227     M -0.23153 -0.266117 -0.272337 -0.251419     9.438945  \n",
       "7 -0.115739     L -0.23153 -0.266117 -0.272337 -0.251419   344.256300  \n",
       "8  0.206973     O -0.23153 -0.266117 -0.272337 -0.251419     0.000000  \n",
       "9 -1.100282     J -0.23153 -0.266117  1.968533  1.408637     0.000000  \n",
       "\n",
       "[10 rows x 35 columns]"
      ]
     },
     "execution_count": 4,
     "metadata": {},
     "output_type": "execute_result"
    }
   ],
   "source": [
    "data.head(10)"
   ]
  },
  {
   "cell_type": "markdown",
   "metadata": {
    "id": "H_wNHg2x-6JY"
   },
   "source": [
    "# Section 1: Data Preprocessing"
   ]
  },
  {
   "cell_type": "markdown",
   "metadata": {
    "id": "TqnBpYNn_Nen"
   },
   "source": [
    "### **a. Data Cleaning** "
   ]
  },
  {
   "cell_type": "code",
   "execution_count": 5,
   "metadata": {
    "colab": {
     "base_uri": "https://localhost:8080/"
    },
    "id": "SKPAeGxrcYjN",
    "outputId": "2ce7c66d-cf9b-4244-d55c-32868ea6c564"
   },
   "outputs": [
    {
     "data": {
      "text/plain": [
       "Row_ID                0\n",
       "Household_ID          0\n",
       "Vehicle               0\n",
       "Calendar_Year         0\n",
       "Model_Year            0\n",
       "Blind_Make           15\n",
       "Blind_Model          15\n",
       "Blind_Submodel       15\n",
       "Cat1                 50\n",
       "Cat2              10591\n",
       "Cat3                 11\n",
       "Cat4              12985\n",
       "Cat5              12998\n",
       "Cat6                 50\n",
       "Cat7              16480\n",
       "Cat8                  2\n",
       "Cat9                  0\n",
       "Cat10                10\n",
       "Cat11                58\n",
       "Cat12                52\n",
       "OrdCat               19\n",
       "Var1                  0\n",
       "Var2                  0\n",
       "Var3                  0\n",
       "Var4                  0\n",
       "Var5                  0\n",
       "Var6                  0\n",
       "Var7                  0\n",
       "Var8                  0\n",
       "NVCat                 0\n",
       "NVVar1                0\n",
       "NVVar2                0\n",
       "NVVar3                0\n",
       "NVVar4                0\n",
       "Claim_Amount          0\n",
       "dtype: int64"
      ]
     },
     "execution_count": 5,
     "metadata": {},
     "output_type": "execute_result"
    }
   ],
   "source": [
    "data.isna().sum()\n",
    "#only Cat12 has na values\n",
    "data.replace(\"?\",np.nan).isna().sum()"
   ]
  },
  {
   "cell_type": "markdown",
   "metadata": {},
   "source": [
    "1. After replacing the \"?\" with nan it shows Cat2, Cat4-5 and Cat7 features has more than 30% missing values so we will remove these features."
   ]
  },
  {
   "cell_type": "markdown",
   "metadata": {
    "id": "d1D13ES3_4Eg"
   },
   "source": [
    "2. Blind_Make, Blind_Model and Blind_Submodel have more levels so we will drop them. Row_ID is also redundant."
   ]
  },
  {
   "cell_type": "code",
   "execution_count": 6,
   "metadata": {
    "colab": {
     "base_uri": "https://localhost:8080/"
    },
    "id": "G3fogGxk0xZ_",
    "outputId": "42c1ef5a-7901-4629-e741-c6de5872c048"
   },
   "outputs": [
    {
     "data": {
      "text/plain": [
       "Household_ID      0\n",
       "Vehicle           0\n",
       "Calendar_Year     0\n",
       "Model_Year        0\n",
       "Cat1             50\n",
       "Cat3             11\n",
       "Cat6             50\n",
       "Cat8              2\n",
       "Cat9              0\n",
       "Cat10            10\n",
       "Cat11            58\n",
       "Cat12            52\n",
       "OrdCat           19\n",
       "Var1              0\n",
       "Var2              0\n",
       "Var3              0\n",
       "Var4              0\n",
       "Var5              0\n",
       "Var6              0\n",
       "Var7              0\n",
       "Var8              0\n",
       "NVCat             0\n",
       "NVVar1            0\n",
       "NVVar2            0\n",
       "NVVar3            0\n",
       "NVVar4            0\n",
       "Claim_Amount      0\n",
       "dtype: int64"
      ]
     },
     "execution_count": 6,
     "metadata": {},
     "output_type": "execute_result"
    }
   ],
   "source": [
    "data = data.drop(columns=[\"Blind_Make\",\"Blind_Model\",\"Blind_Submodel\",\"Row_ID\",\"Cat2\",\"Cat4\",\"Cat5\",\"Cat7\"],axis=1)\n",
    "data = data.replace(\"?\",np.nan)\n",
    "data.isna().sum()"
   ]
  },
  {
   "cell_type": "markdown",
   "metadata": {
    "id": "FHSasA0RTv0A"
   },
   "source": [
    "3. All the remaining missing data values are for categorical variables so we will replace them with the mode/most frequent values. Though we can remove the corresponding rows as they account for less than 1% of the data we might miss some information for the claim_amount and later we will drop some columns with more levels."
   ]
  },
  {
   "cell_type": "code",
   "execution_count": 7,
   "metadata": {
    "id": "JkaIDBIfTyFr"
   },
   "outputs": [],
   "source": [
    "colmns_na = [\"Cat1\",\"Cat3\",\"Cat6\",\"Cat8\",\"Cat10\",\"Cat11\",\"Cat12\",\"OrdCat\"]\n",
    "for i in colmns_na:\n",
    "  data[i] = data[i].fillna(data[i].value_counts().index[0])\n",
    "#data.isna().sum()"
   ]
  },
  {
   "cell_type": "markdown",
   "metadata": {
    "id": "JYhOFc7BAAI5"
   },
   "source": [
    "4. Data has been cleaned now and ready for further exploration. Histograms and Boxplots are plotted to see if the features follow normal distribution and if there are any outliers in the data."
   ]
  },
  {
   "cell_type": "code",
   "execution_count": 8,
   "metadata": {
    "colab": {
     "base_uri": "https://localhost:8080/",
     "height": 838
    },
    "id": "hjjT1hn_fOdb",
    "outputId": "17532b57-9a3a-4d14-b50a-aa8f2a72bb89"
   },
   "outputs": [
    {
     "data": {
      "image/png": "[encoded data removed]",
      "text/plain": [
       "<Figure size 1440x1080 with 20 Axes>"
      ]
     },
     "metadata": {
      "needs_background": "light"
     },
     "output_type": "display_data"
    }
   ],
   "source": [
    "%matplotlib inline \n",
    "data.hist(bins=50, figsize=(20,15))\n",
    "plt.show()"
   ]
  },
  {
   "cell_type": "markdown",
   "metadata": {
    "id": "iJq6y5o4AgCU"
   },
   "source": [
    "5. Majority of the households has only 1 to 3 vehicles. Vehicle feature looks like skewed to the right.\n",
    "6. Almost 75% of the vehicle models fall between 1997 to 2008. Model_year feature is slightly left-skewed. \n",
    "7. The values for the variables Var8, NVVar1, NVVar2, NVVar3, and NVVar4 are concentrated at one end of the plots. This is an indication that several instances might contain outliers."
   ]
  },
  {
   "cell_type": "code",
   "execution_count": 9,
   "metadata": {
    "colab": {
     "base_uri": "https://localhost:8080/"
    },
    "id": "ncKBQ9h1mugV",
    "outputId": "c5a1dfbf-259b-47dd-e00f-afa220bb4a2d"
   },
   "outputs": [
    {
     "data": {
      "text/plain": [
       "0.000000       0.700000\n",
       "35.952400      0.000067\n",
       "143.286400     0.000067\n",
       "32.297890      0.000067\n",
       "36.904900      0.000067\n",
       "                 ...   \n",
       "2.421411       0.000033\n",
       "102.128600     0.000033\n",
       "2521.186000    0.000033\n",
       "23.485420      0.000033\n",
       "204.517400     0.000033\n",
       "Name: Claim_Amount, Length: 8997, dtype: float64"
      ]
     },
     "execution_count": 9,
     "metadata": {},
     "output_type": "execute_result"
    }
   ],
   "source": [
    "data.Claim_Amount.value_counts('0')\n",
    "#max(data.Claim_Amount)"
   ]
  },
  {
   "cell_type": "markdown",
   "metadata": {
    "id": "NrkG-cJnA4w2"
   },
   "source": [
    "8. Almost 70% of the values are zeros, since we cannot directly apply log transformation we can add 1000 and then apply log tranformation to make it normal."
   ]
  },
  {
   "cell_type": "code",
   "execution_count": 10,
   "metadata": {
    "colab": {
     "base_uri": "https://localhost:8080/",
     "height": 285
    },
    "id": "l4_BaRufqfqy",
    "outputId": "cb8744a0-1418-4358-bb09-d41d5754b3d8"
   },
   "outputs": [
    {
     "data": {
      "text/plain": [
       "<matplotlib.axes._subplots.AxesSubplot at 0x14371838a08>"
      ]
     },
     "execution_count": 10,
     "metadata": {},
     "output_type": "execute_result"
    },
    {
     "data": {
      "image/png": "[encoded data removed]",
      "text/plain": [
       "<Figure size 432x288 with 1 Axes>"
      ]
     },
     "metadata": {
      "needs_background": "light"
     },
     "output_type": "display_data"
    }
   ],
   "source": [
    "data_sub = data.loc[:,'Var8':'NVVar4']\n",
    "data_sub.boxplot()"
   ]
  },
  {
   "cell_type": "markdown",
   "metadata": {
    "id": "kcoODCJ4A9O9"
   },
   "source": [
    "9. As predicted from histograms there are some outliers in these features. We will check the corelation between the numerical variables with Claim_Amount and then decide if we can remove any of the above features. "
   ]
  },
  {
   "cell_type": "code",
   "execution_count": 11,
   "metadata": {
    "colab": {
     "base_uri": "https://localhost:8080/"
    },
    "id": "373uUldLseMG",
    "outputId": "2b01d295-fd8e-4c75-8913-5140eeb8a050"
   },
   "outputs": [
    {
     "data": {
      "text/plain": [
       "Claim_Amount     1.000000\n",
       "Vehicle          0.012099\n",
       "Var1             0.009963\n",
       "Var5             0.009348\n",
       "NVVar2           0.004610\n",
       "Var7             0.003796\n",
       "Var3             0.002661\n",
       "Household_ID     0.002586\n",
       "Var4             0.000812\n",
       "Var6             0.000329\n",
       "Var2            -0.000599\n",
       "Model_Year      -0.000879\n",
       "NVVar3          -0.001729\n",
       "NVVar4          -0.002745\n",
       "NVVar1          -0.006349\n",
       "Var8            -0.007477\n",
       "Calendar_Year   -0.021446\n",
       "Name: Claim_Amount, dtype: float64"
      ]
     },
     "execution_count": 11,
     "metadata": {},
     "output_type": "execute_result"
    }
   ],
   "source": [
    "corr_matrix = data.corr()\n",
    "corr_matrix['Claim_Amount'].sort_values(ascending=False)"
   ]
  },
  {
   "cell_type": "markdown",
   "metadata": {
    "id": "j85BxqD_ETjt"
   },
   "source": [
    "10. Based on the corelation values Var8, NVVar1, NVVar3, NVVar4 and Var2 will be removed. It is also verified seperately that the model performance is not improved by adding these variables except for NVVar1 but we will not consider as it has more outliers."
   ]
  },
  {
   "cell_type": "code",
   "execution_count": 12,
   "metadata": {
    "id": "d--LTkV2FA9H"
   },
   "outputs": [],
   "source": [
    "data = data.drop(columns=[\"Var8\",\"NVVar1\",\"NVVar3\",\"NVVar4\",\"Var2\"],axis=1)\n",
    "#data.head(10)"
   ]
  },
  {
   "cell_type": "code",
   "execution_count": 13,
   "metadata": {},
   "outputs": [],
   "source": [
    "data['Vehicle_Age'] = data['Calendar_Year'] - data['Model_Year']\n",
    "#data.head(10)"
   ]
  },
  {
   "cell_type": "markdown",
   "metadata": {},
   "source": [
    "11. Instead of Calender year and Model year we will use the difference of these column as the age of the vehicle which will be a numeric value and see if it is correlated with Claim_amount."
   ]
  },
  {
   "cell_type": "code",
   "execution_count": 14,
   "metadata": {},
   "outputs": [
    {
     "data": {
      "text/plain": [
       "Claim_Amount     1.000000\n",
       "Vehicle          0.012099\n",
       "Var1             0.009963\n",
       "Var5             0.009348\n",
       "NVVar2           0.004610\n",
       "Var7             0.003796\n",
       "Var3             0.002661\n",
       "Household_ID     0.002586\n",
       "Var4             0.000812\n",
       "Var6             0.000329\n",
       "Model_Year      -0.000879\n",
       "Vehicle_Age     -0.002560\n",
       "Calendar_Year   -0.021446\n",
       "Name: Claim_Amount, dtype: float64"
      ]
     },
     "execution_count": 14,
     "metadata": {},
     "output_type": "execute_result"
    }
   ],
   "source": [
    "corr_matrix = data.corr()\n",
    "corr_matrix['Claim_Amount'].sort_values(ascending=False)"
   ]
  },
  {
   "cell_type": "markdown",
   "metadata": {},
   "source": [
    "12. It is not highly correlated and also it is not improving the performance on a linear model which is tested seperately, so we will drop the column. We will drop Calendar_Year alone as it is not significant.\n"
   ]
  },
  {
   "cell_type": "code",
   "execution_count": 15,
   "metadata": {},
   "outputs": [],
   "source": [
    "data = data.drop(columns=[\"Vehicle_Age\"],axis=1)\n",
    "data = data.drop(columns=[\"Calendar_Year\"],axis=1)"
   ]
  },
  {
   "cell_type": "markdown",
   "metadata": {
    "id": "jpIjlGtjBmsF"
   },
   "source": [
    "### **b. Data Preparation**"
   ]
  },
  {
   "cell_type": "markdown",
   "metadata": {},
   "source": [
    "1. As suggested in the assignment we will remove the categorical features with more levels and just use few variables for the model. But ideally we can apply chi-square test for classification model between the target variable and individual categorical columns to see if it they are statistically significant."
   ]
  },
  {
   "cell_type": "code",
   "execution_count": 16,
   "metadata": {
    "id": "py9sMxkODLMg"
   },
   "outputs": [],
   "source": [
    "#data.columns\n",
    "data = data.drop(columns=[\"Cat1\",\"Cat11\",\"Cat12\",\"OrdCat\",\"NVCat\"],axis=1)"
   ]
  },
  {
   "cell_type": "markdown",
   "metadata": {
    "id": "rjZY-xd5drkO"
   },
   "source": [
    "2. Now we will split the data before we apply any transformations and make sure both the training and test data has equal proportion of 0's."
   ]
  },
  {
   "cell_type": "code",
   "execution_count": 17,
   "metadata": {
    "id": "j1Zk0bWRfXNF"
   },
   "outputs": [],
   "source": [
    "for col in ['Household_ID', 'Vehicle', 'Model_Year']:\n",
    "    data[col] = data[col].astype('float64')"
   ]
  },
  {
   "cell_type": "code",
   "execution_count": 18,
   "metadata": {
    "id": "bKBWHIdScRXf"
   },
   "outputs": [],
   "source": [
    "from sklearn.model_selection import train_test_split\n",
    "vic_train_set, vic_test_set = train_test_split(data, test_size=0.15, random_state=27)"
   ]
  },
  {
   "cell_type": "code",
   "execution_count": 19,
   "metadata": {
    "colab": {
     "base_uri": "https://localhost:8080/"
    },
    "id": "3Vn2LtAtdJfn",
    "outputId": "2c8b8ddf-c3be-47ee-b1c2-99aaa1a4682b"
   },
   "outputs": [
    {
     "name": "stdout",
     "output_type": "stream",
     "text": [
      "0.6994901960784313\n",
      "0.7028888888888889\n"
     ]
    }
   ],
   "source": [
    "print(vic_train_set.Claim_Amount.value_counts('0')[0])\n",
    "print(vic_test_set.Claim_Amount.value_counts('0')[0])"
   ]
  },
  {
   "cell_type": "code",
   "execution_count": 20,
   "metadata": {
    "colab": {
     "base_uri": "https://localhost:8080/"
    },
    "id": "tVnC7WQ2fF1Q",
    "outputId": "7abf4d2a-8ec1-4552-f99f-c771f3de17bc"
   },
   "outputs": [
    {
     "data": {
      "text/plain": [
       "Index(['Household_ID', 'Vehicle', 'Model_Year', 'Cat3', 'Cat6', 'Cat8', 'Cat9',\n",
       "       'Cat10', 'Var1', 'Var3', 'Var4', 'Var5', 'Var6', 'Var7', 'NVVar2',\n",
       "       'Claim_Amount'],\n",
       "      dtype='object')"
      ]
     },
     "execution_count": 20,
     "metadata": {},
     "output_type": "execute_result"
    }
   ],
   "source": [
    "data.columns\n",
    "#Final columns that goes into the model"
   ]
  },
  {
   "cell_type": "markdown",
   "metadata": {
    "id": "j8Q3ZN8NTreQ"
   },
   "source": [
    "3. Applying onehot encoding for the categorical features. Since the ensemble methods doesn't get effected by the scale we will keep the numeric values as is and proceed to build the models."
   ]
  },
  {
   "cell_type": "code",
   "execution_count": 21,
   "metadata": {
    "id": "MqEJPeQzetxY"
   },
   "outputs": [],
   "source": [
    "attributes_cat = ['Cat3','Cat6','Cat8','Cat9','Cat10']\n",
    "#attributes_num = ['Household_ID', 'NVVar2', 'Vehicle']\n",
    "#attributes_log = ['Vehicle']\n",
    "#attributes_std = ['Household_ID','NVVar2','Vehicle','Var1','Var3','Var4','Var5','Var6','Var7']"
   ]
  },
  {
   "cell_type": "code",
   "execution_count": 22,
   "metadata": {
    "id": "b-71TRjAe4sm"
   },
   "outputs": [],
   "source": [
    "from sklearn.compose import ColumnTransformer\n",
    "from sklearn.preprocessing import OneHotEncoder\n",
    "#from sklearn.preprocessing import StandardScaler\n",
    "#from sklearn.preprocessing import Normalizer\n",
    "#from sklearn.preprocessing import MinMaxScaler\n",
    "\n",
    "full_transform = ColumnTransformer([\n",
    "    (\"cat\", OneHotEncoder(handle_unknown='ignore'), attributes_cat),\n",
    "],remainder='passthrough')"
   ]
  },
  {
   "cell_type": "markdown",
   "metadata": {
    "id": "5XpAsWUBS_JJ"
   },
   "source": [
    "### **c. Handling Data Imbalance**"
   ]
  },
  {
   "cell_type": "markdown",
   "metadata": {},
   "source": [
    "As the data is highly imbalanced for target variable, we can apply Re-sampling methods to balance out the 0's and the rest of the values. Here we can try different techniques for under-sampling the data, like Random under-sampling, Cluster centroid under-sampling and Tomek Link to name a few (Aditya patil, 2018).\n",
    "\n",
    "We will apply Random under-sampling technique in this use case. To build the model for generalized scenario instead of resampling the data to pure balanced set, we will sample with slightly high proportion of 0's than the non zero values\n",
    "(Ye Wu & Rick Radewagen, 2017)."
   ]
  },
  {
   "cell_type": "markdown",
   "metadata": {
    "id": "BqD-t3PfLKuS"
   },
   "source": [
    "**Random under-sampling**"
   ]
  },
  {
   "cell_type": "code",
   "execution_count": 23,
   "metadata": {
    "colab": {
     "base_uri": "https://localhost:8080/"
    },
    "id": "6SUzUEI88M39",
    "outputId": "bb354a82-345c-454b-9237-90640e12c174"
   },
   "outputs": [
    {
     "name": "stdout",
     "output_type": "stream",
     "text": [
      "<class 'pandas.core.frame.DataFrame'>\n",
      "Int64Index: 17241 entries, 7742 to 20152\n",
      "Data columns (total 16 columns):\n",
      " #   Column        Non-Null Count  Dtype  \n",
      "---  ------        --------------  -----  \n",
      " 0   Household_ID  17241 non-null  float64\n",
      " 1   Vehicle       17241 non-null  float64\n",
      " 2   Model_Year    17241 non-null  float64\n",
      " 3   Cat3          17241 non-null  object \n",
      " 4   Cat6          17241 non-null  object \n",
      " 5   Cat8          17241 non-null  object \n",
      " 6   Cat9          17241 non-null  object \n",
      " 7   Cat10         17241 non-null  object \n",
      " 8   Var1          17241 non-null  float64\n",
      " 9   Var3          17241 non-null  float64\n",
      " 10  Var4          17241 non-null  float64\n",
      " 11  Var5          17241 non-null  float64\n",
      " 12  Var6          17241 non-null  float64\n",
      " 13  Var7          17241 non-null  float64\n",
      " 14  NVVar2        17241 non-null  float64\n",
      " 15  Claim_Amount  17241 non-null  float64\n",
      "dtypes: float64(11), object(5)\n",
      "memory usage: 2.2+ MB\n",
      "0.5555362217968796\n"
     ]
    }
   ],
   "source": [
    "from sklearn.utils import resample, shuffle\n",
    "vic_train_set_unbal = vic_train_set.copy()\n",
    "\n",
    "vic_train_set_cla_subnotzero = vic_train_set_unbal[vic_train_set_unbal.Claim_Amount != 0.0]\n",
    "sample_size = int(1.25*len(vic_train_set_unbal[vic_train_set_unbal.Claim_Amount !=0.0]))\n",
    "\n",
    "vic_train_set_cla_bal = resample(vic_train_set_unbal[vic_train_set_unbal.Claim_Amount == 0.0], \n",
    "                                                 replace = False,\n",
    "                                                 n_samples = sample_size,\n",
    "                                                 random_state = 11)\n",
    "vic_train_set_cla_subnotzero\n",
    "\n",
    "vic_train_set_bal = pd.concat([vic_train_set_cla_bal, vic_train_set_cla_subnotzero])\n",
    "vic_train_set_bal.info()\n",
    "print(vic_train_set_bal.Claim_Amount.value_counts('0')[0])                  "
   ]
  },
  {
   "cell_type": "markdown",
   "metadata": {},
   "source": [
    "so, the final balanced data set has 55% of 0's and 45% of non zero values."
   ]
  },
  {
   "cell_type": "code",
   "execution_count": 24,
   "metadata": {},
   "outputs": [],
   "source": [
    "vic_train_set_bal_attributes = vic_train_set_bal.drop('Claim_Amount', axis=1)\n",
    "vic_train_set_bal_labels = vic_train_set_bal['Claim_Amount']\n",
    "vic_train_set_bal_attributes_prepared = full_transform.fit_transform(vic_train_set_bal_attributes)\n",
    "#only one-hot encoding for the transformation so we will fit on train set and use it to transform in the furher steps."
   ]
  },
  {
   "cell_type": "markdown",
   "metadata": {
    "id": "yYO7KYfw_BaN"
   },
   "source": [
    "# Section 2: Model Building & Performance comparision of different models"
   ]
  },
  {
   "cell_type": "markdown",
   "metadata": {
    "id": "S-yDob3r6pQs"
   },
   "source": [
    "Creating sub_train and validation sets from the balanced training data."
   ]
  },
  {
   "cell_type": "code",
   "execution_count": 25,
   "metadata": {
    "id": "pCryvwt16vKw"
   },
   "outputs": [],
   "source": [
    "vic_sub_train_set, vic_val_set = train_test_split(vic_train_set_bal, test_size=0.15, random_state=47)\n",
    "vic_sub_train_set_attributes = vic_sub_train_set.drop('Claim_Amount', axis=1)\n",
    "vic_sub_train_set_labels = vic_sub_train_set['Claim_Amount']\n",
    "vic_val_set_attributes = vic_val_set.drop('Claim_Amount', axis=1)\n",
    "vic_val_set_labels = vic_val_set['Claim_Amount']"
   ]
  },
  {
   "cell_type": "code",
   "execution_count": 26,
   "metadata": {
    "colab": {
     "base_uri": "https://localhost:8080/"
    },
    "id": "lHRbegOWRN3h",
    "outputId": "fc9e87cd-4007-44bd-9b19-f374edc73dc2"
   },
   "outputs": [
    {
     "name": "stdout",
     "output_type": "stream",
     "text": [
      "0.5559574177698922\n",
      "0.553150367220719\n",
      "<class 'pandas.core.frame.DataFrame'>\n",
      "Int64Index: 2587 entries, 8281 to 6627\n",
      "Data columns (total 16 columns):\n",
      " #   Column        Non-Null Count  Dtype  \n",
      "---  ------        --------------  -----  \n",
      " 0   Household_ID  2587 non-null   float64\n",
      " 1   Vehicle       2587 non-null   float64\n",
      " 2   Model_Year    2587 non-null   float64\n",
      " 3   Cat3          2587 non-null   object \n",
      " 4   Cat6          2587 non-null   object \n",
      " 5   Cat8          2587 non-null   object \n",
      " 6   Cat9          2587 non-null   object \n",
      " 7   Cat10         2587 non-null   object \n",
      " 8   Var1          2587 non-null   float64\n",
      " 9   Var3          2587 non-null   float64\n",
      " 10  Var4          2587 non-null   float64\n",
      " 11  Var5          2587 non-null   float64\n",
      " 12  Var6          2587 non-null   float64\n",
      " 13  Var7          2587 non-null   float64\n",
      " 14  NVVar2        2587 non-null   float64\n",
      " 15  Claim_Amount  2587 non-null   float64\n",
      "dtypes: float64(11), object(5)\n",
      "memory usage: 343.6+ KB\n"
     ]
    }
   ],
   "source": [
    "print(vic_sub_train_set.Claim_Amount.value_counts('0')[0])\n",
    "print(vic_val_set.Claim_Amount.value_counts('0')[0])\n",
    "#vic_sub_train_set.info()\n",
    "vic_val_set.info()"
   ]
  },
  {
   "cell_type": "markdown",
   "metadata": {},
   "source": [
    "Almost Same ratio of 0's and non zeros are maintained in both sub train and validation sets."
   ]
  },
  {
   "cell_type": "code",
   "execution_count": 27,
   "metadata": {
    "id": "PsBW6l-m64Eg"
   },
   "outputs": [],
   "source": [
    "vic_sub_train_set_attributes_prepared = full_transform.transform(vic_sub_train_set_attributes)\n",
    "vic_val_set_attributes_prepared = full_transform.transform(vic_val_set_attributes)"
   ]
  },
  {
   "cell_type": "markdown",
   "metadata": {
    "id": "CEEoNMLF6IOh"
   },
   "source": [
    "### **a. Linear Regression**"
   ]
  },
  {
   "cell_type": "markdown",
   "metadata": {
    "id": "KCrmiOlU8Rm0"
   },
   "source": [
    "**1. Model Building**"
   ]
  },
  {
   "cell_type": "code",
   "execution_count": 28,
   "metadata": {
    "colab": {
     "base_uri": "https://localhost:8080/"
    },
    "id": "nllSMj606Ftc",
    "outputId": "4bed68df-d70b-4ab5-de7b-798335251d0c"
   },
   "outputs": [
    {
     "data": {
      "text/plain": [
       "LinearRegression(copy_X=True, fit_intercept=True, n_jobs=None, normalize=False)"
      ]
     },
     "execution_count": 28,
     "metadata": {},
     "output_type": "execute_result"
    }
   ],
   "source": [
    "from sklearn.linear_model import LinearRegression\n",
    "lin_reg = LinearRegression()\n",
    "lin_reg.fit(vic_sub_train_set_attributes_prepared, vic_sub_train_set_labels)"
   ]
  },
  {
   "cell_type": "markdown",
   "metadata": {
    "id": "ZYQqgPpv8Uar"
   },
   "source": [
    "**2. Validation and Performance Measure**"
   ]
  },
  {
   "cell_type": "code",
   "execution_count": 29,
   "metadata": {
    "id": "7-6rdpnH8XA1"
   },
   "outputs": [],
   "source": [
    "vic_val_set_predictions_lr = lin_reg.predict(vic_val_set_attributes_prepared)"
   ]
  },
  {
   "cell_type": "code",
   "execution_count": 30,
   "metadata": {
    "colab": {
     "base_uri": "https://localhost:8080/"
    },
    "id": "5SWk5hYA-RSQ",
    "outputId": "bacd1d25-1b72-4c9d-dcf0-fc867fc1d102"
   },
   "outputs": [
    {
     "data": {
      "text/plain": [
       "253.89444251533882"
      ]
     },
     "execution_count": 30,
     "metadata": {},
     "output_type": "execute_result"
    }
   ],
   "source": [
    "from sklearn.metrics import mean_squared_error\n",
    "rmse_lin_reg = mean_squared_error(vic_val_set_labels,vic_val_set_predictions_lr, squared=False)\n",
    "rmse_lin_reg"
   ]
  },
  {
   "cell_type": "markdown",
   "metadata": {
    "id": "s5t3pxfD8Xsp"
   },
   "source": [
    "**3. Parameter Tuning**"
   ]
  },
  {
   "cell_type": "code",
   "execution_count": 31,
   "metadata": {
    "id": "EvEOTr1BTuZc"
   },
   "outputs": [],
   "source": [
    "from sklearn.model_selection import ShuffleSplit\n",
    "from sklearn.model_selection import GridSearchCV"
   ]
  },
  {
   "cell_type": "code",
   "execution_count": 32,
   "metadata": {},
   "outputs": [],
   "source": [
    "whole_train_set_attributes = np.vstack((vic_sub_train_set_attributes_prepared , vic_val_set_attributes_prepared))\n",
    "whole_train_set_labels = np.hstack((vic_sub_train_set_labels, vic_val_set_labels))"
   ]
  },
  {
   "cell_type": "code",
   "execution_count": 33,
   "metadata": {
    "colab": {
     "base_uri": "https://localhost:8080/"
    },
    "id": "RNfwCs1Y8dEC",
    "outputId": "5fb064ab-34e5-4f58-9717-c6d7dbac042b"
   },
   "outputs": [],
   "source": [
    "#fit_intercept_opts = [False, True]\n",
    "#normalize_opts = [False, True]\n",
    "#copy_X_opts= [True, False]\n",
    "#n_jobs_opts=[None,-1, 1, 10]\n",
    "#param_grid = dict(fit_intercept = fit_intercept_opts, normalize = normalize_opts, copy_X = copy_X_opts, n_jobs= n_jobs_opts)\n",
    "#grid_lr = GridSearchCV(LinearRegression(), param_grid=param_grid, cv=5, scoring='neg_mean_squared_error')\n",
    "#grid_lr.fit(whole_train_set_attributes, whole_train_set_labels)"
   ]
  },
  {
   "cell_type": "code",
   "execution_count": 34,
   "metadata": {
    "colab": {
     "base_uri": "https://localhost:8080/"
    },
    "id": "D3mJMovLAsYV",
    "outputId": "b363a912-c56a-40ee-a9cc-72361ab9087f"
   },
   "outputs": [],
   "source": [
    "#print(grid_lr.best_params_)"
   ]
  },
  {
   "cell_type": "markdown",
   "metadata": {},
   "source": [
    "GridSearch Result: {'copy_X': True, 'fit_intercept': False, 'n_jobs': None, 'normalize': False}"
   ]
  },
  {
   "cell_type": "markdown",
   "metadata": {
    "id": "xGDu14Pw8t9O"
   },
   "source": [
    "**4. Validation with tuned model parameters from grid search**"
   ]
  },
  {
   "cell_type": "code",
   "execution_count": 35,
   "metadata": {
    "colab": {
     "base_uri": "https://localhost:8080/"
    },
    "id": "8yU6QZn_8u-Z",
    "outputId": "3118d573-2133-4d82-83f9-b0340bc8da5b"
   },
   "outputs": [
    {
     "data": {
      "text/plain": [
       "253.895093392216"
      ]
     },
     "execution_count": 35,
     "metadata": {},
     "output_type": "execute_result"
    }
   ],
   "source": [
    "lin_reg_gs = LinearRegression(fit_intercept=False)\n",
    "lin_reg_gs.fit(vic_sub_train_set_attributes_prepared, vic_sub_train_set_labels)\n",
    "vic_val_set_predictions_lrgs = lin_reg_gs.predict(vic_val_set_attributes_prepared)\n",
    "rmse_lin_reg_gs = mean_squared_error(vic_val_set_labels,vic_val_set_predictions_lrgs, squared=False)\n",
    "rmse_lin_reg_gs"
   ]
  },
  {
   "cell_type": "markdown",
   "metadata": {
    "id": "_XtbtIIx7QYr"
   },
   "source": [
    "### **b. Ridge Regression**"
   ]
  },
  {
   "cell_type": "markdown",
   "metadata": {
    "id": "K_9ZXVod_zn6"
   },
   "source": [
    "**1. Model Building**"
   ]
  },
  {
   "cell_type": "code",
   "execution_count": 36,
   "metadata": {
    "colab": {
     "base_uri": "https://localhost:8080/"
    },
    "id": "zMREaU5y7U8H",
    "outputId": "06960b6a-5923-43df-8495-a25a5631dc99"
   },
   "outputs": [
    {
     "name": "stderr",
     "output_type": "stream",
     "text": [
      "C:\\Users\\varma\\anaconda3\\lib\\site-packages\\sklearn\\linear_model\\_ridge.py:148: LinAlgWarning: Ill-conditioned matrix (rcond=1.79569e-17): result may not be accurate.\n",
      "  overwrite_a=True).T\n"
     ]
    },
    {
     "data": {
      "text/plain": [
       "Ridge(alpha=1.0, copy_X=True, fit_intercept=True, max_iter=None,\n",
       "      normalize=False, random_state=None, solver='auto', tol=0.001)"
      ]
     },
     "execution_count": 36,
     "metadata": {},
     "output_type": "execute_result"
    }
   ],
   "source": [
    "from sklearn.linear_model import Ridge\n",
    "rid_reg = Ridge()\n",
    "rid_reg.fit(vic_sub_train_set_attributes_prepared, vic_sub_train_set_labels)"
   ]
  },
  {
   "cell_type": "markdown",
   "metadata": {},
   "source": [
    "we didn't do any feature scaling hence this might be showing some warning. Since Ridge uses regularization I think we need to transform the features to avoid the conflicts."
   ]
  },
  {
   "cell_type": "code",
   "execution_count": 37,
   "metadata": {},
   "outputs": [
    {
     "data": {
      "text/plain": [
       "Ridge(alpha=1.0, copy_X=True, fit_intercept=True, max_iter=None, normalize=True,\n",
       "      random_state=None, solver='auto', tol=0.001)"
      ]
     },
     "execution_count": 37,
     "metadata": {},
     "output_type": "execute_result"
    }
   ],
   "source": [
    "rid_reg = Ridge(normalize=True)\n",
    "rid_reg.fit(vic_sub_train_set_attributes_prepared, vic_sub_train_set_labels)"
   ]
  },
  {
   "cell_type": "markdown",
   "metadata": {
    "id": "r3IVfpIS_0vg"
   },
   "source": [
    "**2. Validation and Performance Measure**"
   ]
  },
  {
   "cell_type": "code",
   "execution_count": 38,
   "metadata": {
    "id": "iOrK0rf1_1By"
   },
   "outputs": [
    {
     "data": {
      "text/plain": [
       "254.0260454264223"
      ]
     },
     "execution_count": 38,
     "metadata": {},
     "output_type": "execute_result"
    }
   ],
   "source": [
    "vic_val_set_predictions_rr = rid_reg.predict(vic_val_set_attributes_prepared)\n",
    "\n",
    "rmse_rid_reg = np.sqrt(mean_squared_error(vic_val_set_labels,vic_val_set_predictions_rr))\n",
    "rmse_rid_reg"
   ]
  },
  {
   "cell_type": "markdown",
   "metadata": {
    "id": "i_hEZTKJ_1JR"
   },
   "source": [
    "**3. Parameter Tuning**"
   ]
  },
  {
   "cell_type": "code",
   "execution_count": 39,
   "metadata": {
    "colab": {
     "base_uri": "https://localhost:8080/"
    },
    "id": "LVL-ndYu_1SB",
    "outputId": "a4f69c8c-a037-432c-bc13-c248af1515c9"
   },
   "outputs": [],
   "source": [
    "#alpha_opts = [1.0,3.0,5.0,10.0]\n",
    "#max_iter_opts = [20,100,1000]\n",
    "#normalize_opts=[True]\n",
    "#param_grid = dict(alpha=alpha_opts, max_iter=max_iter_opts,normalize=normalize_opts)\n",
    "#grid_rr = GridSearchCV(Ridge(), param_grid=param_grid, cv=5, scoring='neg_mean_squared_error')\n",
    "#grid_rr.fit(whole_train_set_attributes, whole_train_set_labels)"
   ]
  },
  {
   "cell_type": "code",
   "execution_count": 40,
   "metadata": {
    "colab": {
     "base_uri": "https://localhost:8080/"
    },
    "id": "6JDuiCJkNA3z",
    "outputId": "fef18964-2847-4346-b8fb-4509e83593f9"
   },
   "outputs": [],
   "source": [
    "#print(grid_rr.best_params_)"
   ]
  },
  {
   "cell_type": "markdown",
   "metadata": {
    "id": "8OQetb5dC7Oz"
   },
   "source": [
    "GridSearch result: {'alpha': 1.0, 'max_iter': 20, 'normalize':True}\n",
    "\n",
    "We will apply the optimum values for alpha and max_iter parameters."
   ]
  },
  {
   "cell_type": "markdown",
   "metadata": {
    "id": "TT0GWPXp__5-"
   },
   "source": [
    "**4. Validation with tuned model parameters from grid search**"
   ]
  },
  {
   "cell_type": "code",
   "execution_count": 41,
   "metadata": {
    "colab": {
     "base_uri": "https://localhost:8080/"
    },
    "id": "-EMRF4pyADom",
    "outputId": "540a6539-7754-4170-945f-f27ba8c74d69"
   },
   "outputs": [
    {
     "data": {
      "text/plain": [
       "254.0260454264223"
      ]
     },
     "execution_count": 41,
     "metadata": {},
     "output_type": "execute_result"
    }
   ],
   "source": [
    "rid_reg_gs = Ridge(alpha=1.0, max_iter=20,normalize=True)\n",
    "rid_reg_gs.fit(vic_sub_train_set_attributes_prepared, vic_sub_train_set_labels)\n",
    "vic_val_set_predictions_rrgs = rid_reg_gs.predict(vic_val_set_attributes_prepared)\n",
    "rmse_rid_reg_gs = np.sqrt(mean_squared_error(vic_val_set_labels,vic_val_set_predictions_rrgs))\n",
    "rmse_rid_reg_gs"
   ]
  },
  {
   "cell_type": "markdown",
   "metadata": {
    "id": "_lVbAiun7Vcz"
   },
   "source": [
    "### **c. Random forests for Regression**"
   ]
  },
  {
   "cell_type": "markdown",
   "metadata": {
    "id": "pyJYlCbbBfXR"
   },
   "source": [
    "**1. Model Building**"
   ]
  },
  {
   "cell_type": "code",
   "execution_count": 42,
   "metadata": {
    "colab": {
     "base_uri": "https://localhost:8080/"
    },
    "id": "AhTDoIaVBxnz",
    "outputId": "b4fb140a-f845-490e-dfcd-d5be12aa5402"
   },
   "outputs": [
    {
     "data": {
      "text/plain": [
       "RandomForestRegressor(bootstrap=True, ccp_alpha=0.0, criterion='mse',\n",
       "                      max_depth=None, max_features='auto', max_leaf_nodes=None,\n",
       "                      max_samples=None, min_impurity_decrease=0.0,\n",
       "                      min_impurity_split=None, min_samples_leaf=1,\n",
       "                      min_samples_split=2, min_weight_fraction_leaf=0.0,\n",
       "                      n_estimators=100, n_jobs=None, oob_score=False,\n",
       "                      random_state=10, verbose=0, warm_start=False)"
      ]
     },
     "execution_count": 42,
     "metadata": {},
     "output_type": "execute_result"
    }
   ],
   "source": [
    "from sklearn.ensemble import RandomForestRegressor\n",
    "randfr_reg = RandomForestRegressor(random_state=10)\n",
    "randfr_reg.fit(vic_sub_train_set_attributes_prepared, vic_sub_train_set_labels)"
   ]
  },
  {
   "cell_type": "markdown",
   "metadata": {
    "id": "LWgroIGtBj2H"
   },
   "source": [
    "**2. Validation and Performance Measure**"
   ]
  },
  {
   "cell_type": "code",
   "execution_count": 43,
   "metadata": {
    "id": "v9zlCC67Cy4V"
   },
   "outputs": [
    {
     "data": {
      "text/plain": [
       "282.49723939877236"
      ]
     },
     "execution_count": 43,
     "metadata": {},
     "output_type": "execute_result"
    }
   ],
   "source": [
    "vic_val_set_predictions_rfr = randfr_reg.predict(vic_val_set_attributes_prepared)\n",
    "\n",
    "rmse_randfr_reg = np.sqrt(mean_squared_error(vic_val_set_labels,vic_val_set_predictions_rfr))\n",
    "rmse_randfr_reg"
   ]
  },
  {
   "cell_type": "markdown",
   "metadata": {
    "id": "IhKzgcAUBkmq"
   },
   "source": [
    "**3. Parameter Tuning (RandomSearch - GridSearch)**"
   ]
  },
  {
   "cell_type": "code",
   "execution_count": 44,
   "metadata": {
    "id": "4by8NGbC8gnK"
   },
   "outputs": [],
   "source": [
    "#from sklearn.model_selection import RandomizedSearchCV\n",
    "#n_estimators = [int(x) for x in np.linspace(start = 100, stop = 2000, num = 10)]\n",
    "#max_depth = [int(x) for x in np.linspace(10, 100, num = 10)]\n",
    "#max_depth.append(None)\n",
    "#max_features = ['auto','sqrt','log2']\n",
    "#min_samples_split = [2, 5, 10]\n",
    "#min_samples_leaf = [1, 2, 4]\n",
    "#bootstrap = [True, False]\n",
    "#random_grid = {'n_estimators': n_estimators,\n",
    "#               'max_features': max_features,\n",
    "#               'max_depth': max_depth,\n",
    "#               'min_samples_split': min_samples_split,\n",
    "#              'min_samples_leaf': min_samples_leaf,\n",
    "#               'bootstrap': bootstrap}\n",
    "#cvs = ShuffleSplit(n_splits=1, test_size=0.3, random_state=47)\n",
    "#rf_random = RandomizedSearchCV(estimator = RandomForestRegressor(), param_distributions = random_grid, n_iter = 100, cv = cvs, \n",
    "#                               verbose=2, random_state=10, n_jobs = -1)\n",
    "#rf_random.fit(whole_train_set_attributes, whole_train_set_labels)"
   ]
  },
  {
   "cell_type": "code",
   "execution_count": 45,
   "metadata": {
    "id": "ZjTaT5RXlzyt"
   },
   "outputs": [],
   "source": [
    "#rf_random.best_params_"
   ]
  },
  {
   "cell_type": "markdown",
   "metadata": {
    "id": "nCu2KiqmnYNR"
   },
   "source": [
    "RandomSearch Result: RandomSearch Result: {'n_estimators': 733,\n",
    " 'min_samples_split': 10,\n",
    " 'min_samples_leaf': 4,\n",
    " 'max_features': 'log2',\n",
    " 'max_depth': 10,\n",
    " 'bootstrap': True}"
   ]
  },
  {
   "cell_type": "markdown",
   "metadata": {},
   "source": [
    "Random search helps in finding the range for each hyperparameter (Will Koehrsen, 2018). Now we will specify the options for the GridSearch to find the most optimum values for the parameters."
   ]
  },
  {
   "cell_type": "code",
   "execution_count": 46,
   "metadata": {
    "colab": {
     "base_uri": "https://localhost:8080/",
     "height": 370
    },
    "id": "MN3WKnY9Pnfn",
    "outputId": "513d6e18-e18f-4846-aa8d-348acd29f805",
    "scrolled": true
   },
   "outputs": [],
   "source": [
    "#n_estimators_opts = [400,800,1600]\n",
    "#max_depth_opts = [10, 20, 30]\n",
    "#max_features_opts = ['log2']\n",
    "#bootstrap_opts = [True]\n",
    "#min_samples_leaf_opts = [3, 4, 5]\n",
    "#min_samples_split_opts = [2,6,10]\n",
    "#param_grid = dict(n_estimators=n_estimators_opts,\\\n",
    "#                 max_features=max_features_opts, bootstrap=bootstrap_opts,\n",
    "#                 min_samples_leaf = min_samples_leaf_opts, min_samples_split = min_samples_split_opts, max_depth=max_depth_opts)\n",
    "#grid_rf = GridSearchCV(RandomForestRegressor(), param_grid=param_grid, cv=3, scoring='neg_mean_squared_error', n_jobs=-1, verbose=2)\n",
    "#grid_rf.fit(whole_train_set_attributes, whole_train_set_labels)"
   ]
  },
  {
   "cell_type": "code",
   "execution_count": 47,
   "metadata": {
    "colab": {
     "base_uri": "https://localhost:8080/",
     "height": 162
    },
    "id": "UYch1fjsPoN8",
    "outputId": "c333e38d-8ea7-46f4-d955-e10b6b0d1ccc"
   },
   "outputs": [],
   "source": [
    "#print(grid_rf.best_params_)"
   ]
  },
  {
   "cell_type": "markdown",
   "metadata": {},
   "source": [
    "GridSearchCV Result: {'bootstrap': True,\n",
    " 'max_depth': 10,\n",
    " 'max_features': 'log2',\n",
    " 'min_samples_leaf': 4,\n",
    " 'min_samples_split': 10,\n",
    " 'n_estimators': 800}"
   ]
  },
  {
   "cell_type": "markdown",
   "metadata": {
    "id": "d3XUGXKXBk2T"
   },
   "source": [
    "**4. Validation with tuned model parameters from grid search**"
   ]
  },
  {
   "cell_type": "code",
   "execution_count": 48,
   "metadata": {
    "id": "HXLa_nIq7VwD"
   },
   "outputs": [
    {
     "data": {
      "text/plain": [
       "255.9577404111447"
      ]
     },
     "execution_count": 48,
     "metadata": {},
     "output_type": "execute_result"
    }
   ],
   "source": [
    "randfr_reg_gs = RandomForestRegressor(max_features='log2', n_estimators=800, min_samples_leaf=4, min_samples_split=10,\n",
    "                                     max_depth=10, bootstrap=True,random_state=10)\n",
    "randfr_reg_gs.fit(vic_sub_train_set_attributes_prepared, vic_sub_train_set_labels)\n",
    "vic_val_set_predictions_rfrgs = randfr_reg_gs.predict(vic_val_set_attributes_prepared)\n",
    "rmse_randfr_reg_gs = np.sqrt(mean_squared_error(vic_val_set_labels,vic_val_set_predictions_rfrgs))\n",
    "rmse_randfr_reg_gs"
   ]
  },
  {
   "cell_type": "markdown",
   "metadata": {
    "id": "AAI58-PO7bdS"
   },
   "source": [
    "### **d. Gradient Tree Boosting for Regression**"
   ]
  },
  {
   "cell_type": "markdown",
   "metadata": {
    "id": "RXFn17-3DIsD"
   },
   "source": [
    "**1. Model Building**"
   ]
  },
  {
   "cell_type": "code",
   "execution_count": 49,
   "metadata": {
    "id": "PXK_WhjsDUm4"
   },
   "outputs": [
    {
     "data": {
      "text/plain": [
       "GradientBoostingRegressor(alpha=0.9, ccp_alpha=0.0, criterion='friedman_mse',\n",
       "                          init=None, learning_rate=0.1, loss='ls', max_depth=3,\n",
       "                          max_features=None, max_leaf_nodes=None,\n",
       "                          min_impurity_decrease=0.0, min_impurity_split=None,\n",
       "                          min_samples_leaf=1, min_samples_split=2,\n",
       "                          min_weight_fraction_leaf=0.0, n_estimators=100,\n",
       "                          n_iter_no_change=None, presort='deprecated',\n",
       "                          random_state=10, subsample=1.0, tol=0.0001,\n",
       "                          validation_fraction=0.1, verbose=0, warm_start=False)"
      ]
     },
     "execution_count": 49,
     "metadata": {},
     "output_type": "execute_result"
    }
   ],
   "source": [
    "from sklearn.ensemble import GradientBoostingRegressor\n",
    "gb_reg = GradientBoostingRegressor(random_state=10)\n",
    "gb_reg.fit(vic_sub_train_set_attributes_prepared, vic_sub_train_set_labels)"
   ]
  },
  {
   "cell_type": "markdown",
   "metadata": {
    "id": "-G0Y8zm-DI2Y"
   },
   "source": [
    "**2. Validation and Performance Measure**"
   ]
  },
  {
   "cell_type": "code",
   "execution_count": 50,
   "metadata": {
    "id": "Wo9FRV2ODVGI"
   },
   "outputs": [
    {
     "data": {
      "text/plain": [
       "256.3711840803032"
      ]
     },
     "execution_count": 50,
     "metadata": {},
     "output_type": "execute_result"
    }
   ],
   "source": [
    "vic_val_set_predictions_gbr = gb_reg.predict(vic_val_set_attributes_prepared)\n",
    "\n",
    "rmse_gb_reg = np.sqrt(mean_squared_error(vic_val_set_labels,vic_val_set_predictions_gbr))\n",
    "rmse_gb_reg"
   ]
  },
  {
   "cell_type": "markdown",
   "metadata": {
    "id": "nZXw3P7uDI9V"
   },
   "source": [
    "**3. Parameter Tuning**"
   ]
  },
  {
   "cell_type": "code",
   "execution_count": 51,
   "metadata": {},
   "outputs": [],
   "source": [
    "#n_estimators = [int(x) for x in np.linspace(start = 100, stop = 2000, num = 10)]\n",
    "#max_features = ['auto','sqrt','log2']\n",
    "#max_depth = [int(x) for x in np.linspace(3, 20, num = 10)]\n",
    "#max_depth.append(None)\n",
    "#min_samples_split = [2, 5, 10]\n",
    "#min_samples_leaf = [1, 5, 10]\n",
    "#subsample_opts = [int(x) for x in np.linspace(start = 0.1, stop = 1.0, num = 10)]\n",
    "#random_grid = {'n_estimators': n_estimators,\n",
    "#               'max_features': max_features,\n",
    "#               'max_depth': max_depth,\n",
    "#               'min_samples_split': min_samples_split,\n",
    "#               'min_samples_leaf': min_samples_leaf,\n",
    "#               'subsample':subsample_opts}\n",
    "#cvs = ShuffleSplit(n_splits=1, test_size=0.3, random_state=42)\n",
    "#gb_random = RandomizedSearchCV(estimator = GradientBoostingRegressor(), param_distributions = random_grid, n_iter = 100, cv = cvs, \n",
    "#                               verbose=2, random_state=42, n_jobs = -1,scoring='neg_mean_squared_error')\n",
    "#gb_random.fit(whole_train_set_attributes, whole_train_set_labels)"
   ]
  },
  {
   "cell_type": "code",
   "execution_count": 52,
   "metadata": {},
   "outputs": [],
   "source": [
    "#gb_random.best_params_"
   ]
  },
  {
   "cell_type": "markdown",
   "metadata": {},
   "source": [
    "RandomSearch Result: {'subsample': 1,\n",
    " 'n_estimators': 522,\n",
    " 'min_samples_split': 2,\n",
    " 'min_samples_leaf': 5,\n",
    " 'max_features': 'log2',\n",
    " 'max_depth': 4}"
   ]
  },
  {
   "cell_type": "code",
   "execution_count": 53,
   "metadata": {
    "id": "wRMe2-lVPvUk"
   },
   "outputs": [],
   "source": [
    "#lr_opts = [0.05,0.08,0.1]\n",
    "#n_estimators_opts= [200,500,1000]\n",
    "#subsample_opts = [0.6,0.8,1.0]\n",
    "#min_samples_split_opts = [2,4,8]\n",
    "#min_samples_leaf_opts = [3,5,7]\n",
    "#max_depth_opts = [2,4,10]\n",
    "#max_features_opts= ['log2']\n",
    "#param_grid = dict(learning_rate=lr_opts, n_estimators=n_estimators_opts, subsample=subsample_opts,\n",
    "#                   max_depth = max_depth_opts, max_features = max_features_opts, min_samples_split=min_samples_split_opts,\n",
    "#                   min_samples_leaf = min_samples_leaf_opts)\n",
    "#grid_gb = GridSearchCV(GradientBoostingRegressor(), param_grid=param_grid, cv=3, scoring='neg_mean_squared_error', \n",
    "#                    n_jobs=-1, verbose=2)\n",
    "#grid_gb.fit(whole_train_set_attributes, whole_train_set_labels)"
   ]
  },
  {
   "cell_type": "code",
   "execution_count": 54,
   "metadata": {
    "id": "ZBaQl3qFPuNH"
   },
   "outputs": [],
   "source": [
    "#grid_gb.best_params_"
   ]
  },
  {
   "cell_type": "markdown",
   "metadata": {},
   "source": [
    "GridSearchCV Result: {'learning_rate': 0.05,\n",
    " 'max_depth': 2,\n",
    " 'max_features': 'log2',\n",
    " 'min_samples_leaf': 7,\n",
    " 'min_samples_split': 2,\n",
    " 'n_estimators': 200,\n",
    " 'subsample': 0.8}"
   ]
  },
  {
   "cell_type": "markdown",
   "metadata": {
    "id": "89PFtcN2DJGQ"
   },
   "source": [
    "**4. Validation with tuned model parameters from grid search**"
   ]
  },
  {
   "cell_type": "code",
   "execution_count": 55,
   "metadata": {
    "id": "C6HyoTjzYcco"
   },
   "outputs": [
    {
     "data": {
      "text/plain": [
       "254.0636692285155"
      ]
     },
     "execution_count": 55,
     "metadata": {},
     "output_type": "execute_result"
    }
   ],
   "source": [
    "gb_reg_gs = GradientBoostingRegressor(learning_rate=0.05,n_estimators=200,subsample=0.8,max_features='log2',\n",
    "                                      min_samples_leaf=7,min_samples_split=2,max_depth=1,random_state=10)\n",
    "gb_reg_gs.fit(vic_sub_train_set_attributes_prepared, vic_sub_train_set_labels)\n",
    "vic_val_set_predictions_gbrgs = gb_reg_gs.predict(vic_val_set_attributes_prepared)\n",
    "rmse_gb_reg_gs = np.sqrt(mean_squared_error(vic_val_set_labels,vic_val_set_predictions_gbrgs))\n",
    "rmse_gb_reg_gs"
   ]
  },
  {
   "cell_type": "markdown",
   "metadata": {
    "id": "09I_vkpM-pn9"
   },
   "source": [
    "### **Model Performance Comparison**"
   ]
  },
  {
   "cell_type": "markdown",
   "metadata": {
    "id": "uM-mp6nyEFgu"
   },
   "source": [
    "Below is the table showing the performance measure (RMSE) values of the each model for both baseline and the hypertuned versions."
   ]
  },
  {
   "cell_type": "markdown",
   "metadata": {
    "id": "BP5HVRc7-wDg"
   },
   "source": [
    "| Model | Baseline RMSE | GS Hypertuned RMSE | Improvement |\n",
    "| :--- | :--- | :--- | :---: |\n",
    "| Linear Regression | 253.89444251533882 | 253.895093392216 | -0.0006508768771880113 |\n",
    "| Ridge Regression | 254.0260454264223 | 254.0260454264223 | 0.0 |\n",
    "| Randomforest Regression | 282.49723939877236 | 255.9577404111447 | 26.539498987627667 |\n",
    "| Gradient Tree Boosting Regression | 256.3711840803032 | 254.0636692285155 | 2.307514851787687 |"
   ]
  },
  {
   "cell_type": "markdown",
   "metadata": {
    "id": "dFcnVKYDEw6o"
   },
   "source": [
    "Observations:\n",
    "1. The Baseline model of Linear regression gave the best RMSE value over the validation set.\n",
    "2. Overall Linear regression has the lowest RMSE than the other tuned models build by gridsearch.\n",
    "3. By hypertuning the random forest model, RMSE score has been reduced by around 26 units. We can infer that with further tuning we might still achieve the better RMSE.  "
   ]
  },
  {
   "cell_type": "markdown",
   "metadata": {
    "id": "1ZeuZaNf_CeE"
   },
   "source": [
    "# Section 3: Performance using a combination of two models"
   ]
  },
  {
   "cell_type": "markdown",
   "metadata": {
    "id": "taD8Z7a-fnun"
   },
   "source": [
    "### **a. Classification using Random forest and Gradient Boosting**"
   ]
  },
  {
   "cell_type": "markdown",
   "metadata": {},
   "source": [
    "As the data is already balanced we can directly apply the classification model. In case of imbalanced data the model might have high accuracy as the prediction of one class will be high. We will label the values of Claim_amount as 'zero' if the value is 0 and 'Non zero' otherwise."
   ]
  },
  {
   "cell_type": "code",
   "execution_count": 56,
   "metadata": {},
   "outputs": [],
   "source": [
    "vic_train_set_bal_labels_prepared = vic_train_set_bal_labels.copy()\n",
    "\n",
    "vic_train_set_bal_labels_prepared[vic_train_set_bal_labels_prepared != 0.0] = 'Non Zero'\n",
    "vic_train_set_bal_labels_prepared[vic_train_set_bal_labels_prepared == 0.0] = 'Zero'\n",
    "\n",
    "#vic_train_set_bal_labels_prepared"
   ]
  },
  {
   "cell_type": "code",
   "execution_count": 57,
   "metadata": {},
   "outputs": [],
   "source": [
    "vic_sub_train_set_labels_prepared = vic_sub_train_set_labels.copy()\n",
    "\n",
    "vic_sub_train_set_labels_prepared[vic_sub_train_set_labels_prepared != 0.0] = 'Non Zero'\n",
    "vic_sub_train_set_labels_prepared[vic_sub_train_set_labels_prepared == 0.0] = 'Zero'\n",
    "\n",
    "#vic_sub_train_set_labels_prepared"
   ]
  },
  {
   "cell_type": "code",
   "execution_count": 58,
   "metadata": {},
   "outputs": [],
   "source": [
    "vic_val_set_labels_prepared = vic_val_set_labels.copy()\n",
    "\n",
    "vic_val_set_labels_prepared[vic_val_set_labels_prepared != 0.0] = 'Non Zero'\n",
    "vic_val_set_labels_prepared[vic_val_set_labels_prepared == 0.0] = 'Zero'\n",
    "\n",
    "#vic_val_set_labels_prepared"
   ]
  },
  {
   "cell_type": "code",
   "execution_count": 59,
   "metadata": {},
   "outputs": [],
   "source": [
    "whole_train_set_label_cls = np.hstack((vic_sub_train_set_labels_prepared,vic_val_set_labels_prepared))"
   ]
  },
  {
   "cell_type": "markdown",
   "metadata": {},
   "source": [
    "**1. Random forest Classifier**"
   ]
  },
  {
   "cell_type": "code",
   "execution_count": 60,
   "metadata": {},
   "outputs": [
    {
     "data": {
      "text/plain": [
       "RandomForestClassifier(bootstrap=True, ccp_alpha=0.0, class_weight=None,\n",
       "                       criterion='gini', max_depth=None, max_features='auto',\n",
       "                       max_leaf_nodes=None, max_samples=None,\n",
       "                       min_impurity_decrease=0.0, min_impurity_split=None,\n",
       "                       min_samples_leaf=1, min_samples_split=2,\n",
       "                       min_weight_fraction_leaf=0.0, n_estimators=100,\n",
       "                       n_jobs=None, oob_score=False, random_state=10, verbose=0,\n",
       "                       warm_start=False)"
      ]
     },
     "execution_count": 60,
     "metadata": {},
     "output_type": "execute_result"
    }
   ],
   "source": [
    "from sklearn.ensemble import RandomForestClassifier\n",
    "\n",
    "rf_cla = RandomForestClassifier(random_state=10)\n",
    "rf_cla.fit(vic_sub_train_set_attributes_prepared, vic_sub_train_set_labels_prepared)"
   ]
  },
  {
   "cell_type": "code",
   "execution_count": 61,
   "metadata": {},
   "outputs": [
    {
     "data": {
      "text/plain": [
       "0.553150367220719"
      ]
     },
     "execution_count": 61,
     "metadata": {},
     "output_type": "execute_result"
    }
   ],
   "source": [
    "vic_val_set_predictions_rfc = rf_cla.predict(vic_val_set_attributes_prepared)\n",
    "\n",
    "rf_cla_score = rf_cla.score(vic_val_set_attributes_prepared,vic_val_set_labels_prepared)\n",
    "rf_cla_score"
   ]
  },
  {
   "cell_type": "code",
   "execution_count": 62,
   "metadata": {},
   "outputs": [
    {
     "name": "stdout",
     "output_type": "stream",
     "text": [
      "0.553150367220719\n"
     ]
    }
   ],
   "source": [
    "from sklearn.metrics import accuracy_score, confusion_matrix, classification_report\n",
    "accuracy = accuracy_score(vic_val_set_labels_prepared, vic_val_set_predictions_rfc)\n",
    "print(accuracy) "
   ]
  },
  {
   "cell_type": "code",
   "execution_count": 63,
   "metadata": {},
   "outputs": [
    {
     "name": "stdout",
     "output_type": "stream",
     "text": [
      "              precision    recall  f1-score   support\n",
      "\n",
      "    Non Zero       0.50      0.47      0.49      1156\n",
      "        Zero       0.59      0.62      0.60      1431\n",
      "\n",
      "    accuracy                           0.55      2587\n",
      "   macro avg       0.55      0.55      0.55      2587\n",
      "weighted avg       0.55      0.55      0.55      2587\n",
      "\n"
     ]
    }
   ],
   "source": [
    "print(classification_report(vic_val_set_labels_prepared,vic_val_set_predictions_rfc))"
   ]
  },
  {
   "cell_type": "code",
   "execution_count": 64,
   "metadata": {},
   "outputs": [
    {
     "name": "stdout",
     "output_type": "stream",
     "text": [
      "     1    0\n",
      "1  546  610\n",
      "0  546  885\n"
     ]
    }
   ],
   "source": [
    "cm = pd.DataFrame(confusion_matrix(vic_val_set_labels_prepared, vic_val_set_predictions_rfc), columns=['1','0'], \n",
    "                  index=['1', '0'])\n",
    "print(cm)"
   ]
  },
  {
   "cell_type": "markdown",
   "metadata": {},
   "source": [
    "More zero's are predicted correctly.\n",
    "We will try if we can reduce the wrongly predicted non zero - (610) count, so that we will not miss out on the non-zero data for the regression."
   ]
  },
  {
   "cell_type": "markdown",
   "metadata": {},
   "source": [
    "Parameter Tuning"
   ]
  },
  {
   "cell_type": "code",
   "execution_count": 65,
   "metadata": {
    "id": "wRMe2-lVPvUk"
   },
   "outputs": [],
   "source": [
    "#n_estimators_opts= [200,500,1000]\n",
    "#min_samples_split_opts = [2,4,8]\n",
    "#min_samples_leaf_opts = [1,3,5]\n",
    "#max_depth_opts = [3,10,20]\n",
    "#max_features_opts= ['auto','sqrt','log2']\n",
    "#bootstrap_opts=[True,False]\n",
    "#criterion_opts=['gini', 'entropy']\n",
    "#param_grid = dict(n_estimators=n_estimators_opts, max_depth = max_depth_opts, max_features = max_features_opts, \n",
    "#                  min_samples_split=min_samples_split_opts, min_samples_leaf = min_samples_leaf_opts,\n",
    "#                    bootstrap=bootstrap_opts,criterion=criterion_opts)\n",
    "#grid_rfc = GridSearchCV(RandomForestClassifier(), param_grid=param_grid, cv=3, scoring='accuracy', \n",
    "#                    n_jobs=-1, verbose=2)\n",
    "#grid_rfc.fit(whole_train_set_attributes, whole_train_set_label_cls)"
   ]
  },
  {
   "cell_type": "code",
   "execution_count": 66,
   "metadata": {},
   "outputs": [],
   "source": [
    "#grid_rfc.best_params_"
   ]
  },
  {
   "cell_type": "markdown",
   "metadata": {},
   "source": [
    "GridSearch result for 'accuracy': {'bootstrap': True,\n",
    " 'criterion': 'gini',\n",
    " 'max_depth': 10,\n",
    " 'max_features': 'auto',\n",
    " 'min_samples_leaf': 5,\n",
    " 'min_samples_split': 2,\n",
    " 'n_estimators': 1000}"
   ]
  },
  {
   "cell_type": "markdown",
   "metadata": {},
   "source": [
    "Validation with tuned model parameters from grid search"
   ]
  },
  {
   "cell_type": "code",
   "execution_count": 67,
   "metadata": {},
   "outputs": [
    {
     "name": "stdout",
     "output_type": "stream",
     "text": [
      "0.5678391959798995\n"
     ]
    }
   ],
   "source": [
    "rf_cls_gs = RandomForestClassifier(bootstrap=True,n_estimators=1000,criterion='gini',max_features='auto',\n",
    "                                      min_samples_leaf=5,min_samples_split=2,max_depth=10,random_state=10)\n",
    "rf_cls_gs.fit(vic_sub_train_set_attributes_prepared, vic_sub_train_set_labels_prepared)\n",
    "vic_val_set_predictions_rfcls = rf_cls_gs.predict(vic_val_set_attributes_prepared)\n",
    "accuracy = accuracy_score(vic_val_set_labels_prepared, vic_val_set_predictions_rfcls)\n",
    "print(accuracy)"
   ]
  },
  {
   "cell_type": "code",
   "execution_count": 68,
   "metadata": {},
   "outputs": [
    {
     "name": "stdout",
     "output_type": "stream",
     "text": [
      "              precision    recall  f1-score   support\n",
      "\n",
      "    Non Zero       0.56      0.15      0.24      1156\n",
      "        Zero       0.57      0.90      0.70      1431\n",
      "\n",
      "    accuracy                           0.57      2587\n",
      "   macro avg       0.56      0.53      0.47      2587\n",
      "weighted avg       0.57      0.57      0.49      2587\n",
      "\n"
     ]
    }
   ],
   "source": [
    "print(classification_report(vic_val_set_labels_prepared,vic_val_set_predictions_rfcls))"
   ]
  },
  {
   "cell_type": "code",
   "execution_count": 69,
   "metadata": {},
   "outputs": [
    {
     "name": "stdout",
     "output_type": "stream",
     "text": [
      "          Non zero  zero\n",
      "Non zero       175   981\n",
      "zero           137  1294\n"
     ]
    }
   ],
   "source": [
    "cm_rfcls = pd.DataFrame(confusion_matrix(vic_val_set_labels_prepared, vic_val_set_predictions_rfcls),columns=['Non zero','zero'], \n",
    "                  index=['Non zero', 'zero'])\n",
    "print(cm_rfcls)"
   ]
  },
  {
   "cell_type": "markdown",
   "metadata": {},
   "source": [
    "Overall Accuracy and precision for Non zero is slightly increased but the wrongly predicted non zero count also increased. The tuned model is trying to predict the zero's correctly which might be case as we are not using the pure balanced dataset."
   ]
  },
  {
   "cell_type": "markdown",
   "metadata": {},
   "source": [
    "**2. Gradient Boosting Classifier**"
   ]
  },
  {
   "cell_type": "code",
   "execution_count": 70,
   "metadata": {},
   "outputs": [
    {
     "data": {
      "text/plain": [
       "GradientBoostingClassifier(ccp_alpha=0.0, criterion='friedman_mse', init=None,\n",
       "                           learning_rate=0.1, loss='deviance', max_depth=3,\n",
       "                           max_features=None, max_leaf_nodes=None,\n",
       "                           min_impurity_decrease=0.0, min_impurity_split=None,\n",
       "                           min_samples_leaf=1, min_samples_split=2,\n",
       "                           min_weight_fraction_leaf=0.0, n_estimators=100,\n",
       "                           n_iter_no_change=None, presort='deprecated',\n",
       "                           random_state=10, subsample=1.0, tol=0.0001,\n",
       "                           validation_fraction=0.1, verbose=0,\n",
       "                           warm_start=False)"
      ]
     },
     "execution_count": 70,
     "metadata": {},
     "output_type": "execute_result"
    }
   ],
   "source": [
    "from sklearn.ensemble import GradientBoostingClassifier\n",
    "\n",
    "gb_cla = GradientBoostingClassifier(random_state=10)\n",
    "gb_cla.fit(vic_sub_train_set_attributes_prepared, vic_sub_train_set_labels_prepared)"
   ]
  },
  {
   "cell_type": "code",
   "execution_count": 71,
   "metadata": {},
   "outputs": [
    {
     "data": {
      "text/plain": [
       "0.5713181291070738"
      ]
     },
     "execution_count": 71,
     "metadata": {},
     "output_type": "execute_result"
    }
   ],
   "source": [
    "vic_val_set_predictions_gbc = gb_cla.predict(vic_val_set_attributes_prepared)\n",
    "\n",
    "gb_cla_score = gb_cla.score(vic_val_set_attributes_prepared,vic_val_set_labels_prepared)\n",
    "gb_cla_score\n",
    "#accuracy = accuracy_score(vic_val_set_labels_prepared, vic_val_set_predictions_gbc)\n",
    "#print(accuracy) "
   ]
  },
  {
   "cell_type": "code",
   "execution_count": 72,
   "metadata": {},
   "outputs": [
    {
     "name": "stdout",
     "output_type": "stream",
     "text": [
      "              precision    recall  f1-score   support\n",
      "\n",
      "    Non Zero       0.55      0.21      0.30      1156\n",
      "        Zero       0.57      0.86      0.69      1431\n",
      "\n",
      "    accuracy                           0.57      2587\n",
      "   macro avg       0.56      0.54      0.50      2587\n",
      "weighted avg       0.57      0.57      0.52      2587\n",
      "\n"
     ]
    }
   ],
   "source": [
    "print(classification_report(vic_val_set_labels_prepared,vic_val_set_predictions_gbc))"
   ]
  },
  {
   "cell_type": "code",
   "execution_count": 73,
   "metadata": {},
   "outputs": [
    {
     "name": "stdout",
     "output_type": "stream",
     "text": [
      "          Non zero  zero\n",
      "Non zero       243   913\n",
      "zero           196  1235\n"
     ]
    }
   ],
   "source": [
    "cm = pd.DataFrame(confusion_matrix(vic_val_set_labels_prepared, vic_val_set_predictions_gbc),columns=['Non zero','zero'], \n",
    "                  index=['Non zero', 'zero'])\n",
    "print(cm)"
   ]
  },
  {
   "cell_type": "markdown",
   "metadata": {},
   "source": [
    "Accuracy is high when compared to the hypertuned model of Randomforest. Also the count for wrongly predicted Non zero (913) is still high, so we can tune the model and see if we can reduce it. "
   ]
  },
  {
   "cell_type": "markdown",
   "metadata": {},
   "source": [
    "Parameter Tuning"
   ]
  },
  {
   "cell_type": "code",
   "execution_count": 74,
   "metadata": {
    "id": "wRMe2-lVPvUk"
   },
   "outputs": [],
   "source": [
    "#n_estimators_opts= [200,500,1000]\n",
    "#min_samples_split_opts = [2,4,8]\n",
    "#min_samples_leaf_opts = [1,3,5]\n",
    "#max_depth_opts = [3,5,10]\n",
    "#max_features_opts= ['auto','sqrt','log2']\n",
    "#lr_opts=[0.05,0.08,0.1]\n",
    "#subsample_opts=[0.6,0.8,1.0]\n",
    "\n",
    "#param_grid = dict(learning_rate=lr_opts, n_estimators=n_estimators_opts, subsample=subsample_opts,\n",
    "#                   max_depth = max_depth_opts, max_features = max_features_opts, min_samples_split=min_samples_split_opts,\n",
    "#                   min_samples_leaf = min_samples_leaf_opts)\n",
    "#grid_gbc = GridSearchCV(GradientBoostingClassifier(), param_grid=param_grid, cv=3, scoring='balanced_accuracy', \n",
    "#                    n_jobs=-1, verbose=2)\n",
    "#grid_gbc.fit(whole_train_set_attributes, whole_train_set_label_cls)"
   ]
  },
  {
   "cell_type": "code",
   "execution_count": 75,
   "metadata": {},
   "outputs": [],
   "source": [
    "#grid_gbc.best_params_"
   ]
  },
  {
   "cell_type": "markdown",
   "metadata": {},
   "source": [
    "GridSearch result 'accuracy':{'learning_rate': 0.08,\n",
    " 'max_depth': 3,\n",
    " 'max_features': 'auto',\n",
    " 'min_samples_leaf': 5,\n",
    " 'min_samples_split': 4,\n",
    " 'n_estimators': 200,\n",
    " 'subsample': 0.6}"
   ]
  },
  {
   "cell_type": "markdown",
   "metadata": {},
   "source": [
    "Validation with tuned model parameters from grid search"
   ]
  },
  {
   "cell_type": "code",
   "execution_count": 76,
   "metadata": {},
   "outputs": [
    {
     "name": "stdout",
     "output_type": "stream",
     "text": [
      "0.5786625434866641\n"
     ]
    }
   ],
   "source": [
    "gb_cls_gs = GradientBoostingClassifier(learning_rate=0.08,n_estimators=200,subsample=0.6,max_features='auto',\n",
    "                                      min_samples_leaf=5,min_samples_split=4,max_depth=3,random_state=10)\n",
    "gb_cls_gs.fit(vic_sub_train_set_attributes_prepared, vic_sub_train_set_labels_prepared)\n",
    "vic_val_set_predictions_gbcls = gb_cls_gs.predict(vic_val_set_attributes_prepared)\n",
    "accuracy = accuracy_score(vic_val_set_labels_prepared, vic_val_set_predictions_gbcls)\n",
    "print(accuracy)"
   ]
  },
  {
   "cell_type": "code",
   "execution_count": 77,
   "metadata": {},
   "outputs": [
    {
     "name": "stdout",
     "output_type": "stream",
     "text": [
      "              precision    recall  f1-score   support\n",
      "\n",
      "    Non Zero       0.56      0.28      0.38      1156\n",
      "        Zero       0.59      0.82      0.68      1431\n",
      "\n",
      "    accuracy                           0.58      2587\n",
      "   macro avg       0.57      0.55      0.53      2587\n",
      "weighted avg       0.57      0.58      0.55      2587\n",
      "\n"
     ]
    }
   ],
   "source": [
    "print(classification_report(vic_val_set_labels_prepared,vic_val_set_predictions_gbcls))"
   ]
  },
  {
   "cell_type": "code",
   "execution_count": 78,
   "metadata": {},
   "outputs": [
    {
     "name": "stdout",
     "output_type": "stream",
     "text": [
      "          Non zero  zero\n",
      "Non zero       329   827\n",
      "zero           263  1168\n"
     ]
    }
   ],
   "source": [
    "cm_gbcls = pd.DataFrame(confusion_matrix(vic_val_set_labels_prepared, vic_val_set_predictions_gbcls),columns=['Non zero','zero'], \n",
    "                  index=['Non zero', 'zero'])\n",
    "print(cm_gbcls)"
   ]
  },
  {
   "cell_type": "markdown",
   "metadata": {},
   "source": [
    "**3. Comparision of the classifiers**"
   ]
  },
  {
   "cell_type": "markdown",
   "metadata": {},
   "source": [
    "| Model | Baseline Accuracy (Non-zero - Precision, Recall)| GS Hypertuned Accuracy (Non-zero - Precision, Recall) |\n",
    "| :--- | :---: | :---: |\n",
    "| Randomforest Classifier | 0.553150367220719 (0.50, 0.47) | 0.5678391959798995 (0.56, 0.15) |\n",
    "| Gradient Boosting classifier  | 0.5713181291070738 (0.55, 0.21) | 0.5786625434866641 (0.56, 0.28) |"
   ]
  },
  {
   "cell_type": "markdown",
   "metadata": {},
   "source": [
    "Overall, accuracy of the Gradient Boosting classifier model is high."
   ]
  },
  {
   "cell_type": "markdown",
   "metadata": {},
   "source": [
    "### **b. Model for Regression to predict only Non-zero Claim_amount values.**"
   ]
  },
  {
   "cell_type": "code",
   "execution_count": 79,
   "metadata": {},
   "outputs": [],
   "source": [
    "vic_sub_train_set_nzero = vic_sub_train_set[vic_sub_train_set.Claim_Amount != 0.0]\n",
    "\n",
    "vic_sub_train_set_nzero_attributes = vic_sub_train_set_nzero.drop('Claim_Amount', axis=1)\n",
    "vic_sub_train_set_nzero_labels = vic_sub_train_set_nzero['Claim_Amount']\n",
    "\n",
    "vic_sub_train_set_nzero_attributes_prepared = full_transform.transform(vic_sub_train_set_nzero_attributes)"
   ]
  },
  {
   "cell_type": "markdown",
   "metadata": {},
   "source": [
    "Here we will not create a subset of validation set with only non zero values, we will test the models with original validation set so that we can find the best model which can generalize the case for tandem model (all the values predicted from classifier might not be true, there will be mix of zero's and Non zero's). "
   ]
  },
  {
   "cell_type": "markdown",
   "metadata": {},
   "source": [
    "**1. Linear Regression**"
   ]
  },
  {
   "cell_type": "code",
   "execution_count": 80,
   "metadata": {},
   "outputs": [
    {
     "data": {
      "text/plain": [
       "279.2861035959401"
      ]
     },
     "execution_count": 80,
     "metadata": {},
     "output_type": "execute_result"
    }
   ],
   "source": [
    "lin_reg_nz = LinearRegression()\n",
    "lin_reg_nz.fit(vic_sub_train_set_nzero_attributes_prepared, vic_sub_train_set_nzero_labels)\n",
    "vic_val_set_predictions_lrnz = lin_reg_nz.predict(vic_val_set_attributes_prepared)\n",
    "rmse_lin_reg_nz = mean_squared_error(vic_val_set_labels,vic_val_set_predictions_lrnz, squared=False)\n",
    "rmse_lin_reg_nz"
   ]
  },
  {
   "cell_type": "markdown",
   "metadata": {},
   "source": [
    "**2. Ridge Regression**"
   ]
  },
  {
   "cell_type": "code",
   "execution_count": 81,
   "metadata": {},
   "outputs": [
    {
     "data": {
      "text/plain": [
       "278.73579801273553"
      ]
     },
     "execution_count": 81,
     "metadata": {},
     "output_type": "execute_result"
    }
   ],
   "source": [
    "rid_reg_nz = Ridge(normalize=True)\n",
    "rid_reg_nz.fit(vic_sub_train_set_nzero_attributes_prepared, vic_sub_train_set_nzero_labels)\n",
    "vic_val_set_predictions_rrnz = rid_reg_nz.predict(vic_val_set_attributes_prepared)\n",
    "rmse_rid_reg_nz = np.sqrt(mean_squared_error(vic_val_set_labels,vic_val_set_predictions_rrnz))\n",
    "rmse_rid_reg_nz"
   ]
  },
  {
   "cell_type": "markdown",
   "metadata": {},
   "source": [
    "**3. Random Forest Regression**"
   ]
  },
  {
   "cell_type": "code",
   "execution_count": 82,
   "metadata": {},
   "outputs": [
    {
     "data": {
      "text/plain": [
       "350.6498191432635"
      ]
     },
     "execution_count": 82,
     "metadata": {},
     "output_type": "execute_result"
    }
   ],
   "source": [
    "randfr_reg_nz = RandomForestRegressor(random_state=10)\n",
    "randfr_reg_nz.fit(vic_sub_train_set_nzero_attributes_prepared, vic_sub_train_set_nzero_labels)\n",
    "vic_val_set_predictions_rfrnz = randfr_reg_nz.predict(vic_val_set_attributes_prepared)\n",
    "rmse_randfr_reg_nz = np.sqrt(mean_squared_error(vic_val_set_labels,vic_val_set_predictions_rfrnz))\n",
    "rmse_randfr_reg_nz"
   ]
  },
  {
   "cell_type": "markdown",
   "metadata": {},
   "source": [
    "Validation with hypertuned parameters"
   ]
  },
  {
   "cell_type": "markdown",
   "metadata": {},
   "source": [
    "We will use the same tuned parameters from 'section 2' and see if the performance is improved. We can try finding the best parameters for the Non zero data but for now we will stick with the same parameters."
   ]
  },
  {
   "cell_type": "code",
   "execution_count": 83,
   "metadata": {},
   "outputs": [
    {
     "data": {
      "text/plain": [
       "285.66469504694635"
      ]
     },
     "execution_count": 83,
     "metadata": {},
     "output_type": "execute_result"
    }
   ],
   "source": [
    "randfr_reg_nz_gs = RandomForestRegressor(max_features='log2', n_estimators=800, min_samples_leaf=4, min_samples_split=10,\n",
    "                                     max_depth=10, bootstrap=True,random_state=10)\n",
    "randfr_reg_nz_gs.fit(vic_sub_train_set_nzero_attributes_prepared, vic_sub_train_set_nzero_labels)\n",
    "vic_val_set_predictions_rfrnz = randfr_reg_nz_gs.predict(vic_val_set_attributes_prepared)\n",
    "rmse_randfr_reg_nz = np.sqrt(mean_squared_error(vic_val_set_labels,vic_val_set_predictions_rfrnz))\n",
    "rmse_randfr_reg_nz"
   ]
  },
  {
   "cell_type": "markdown",
   "metadata": {},
   "source": [
    "**4. Gradient Boosting Regression**"
   ]
  },
  {
   "cell_type": "code",
   "execution_count": 84,
   "metadata": {},
   "outputs": [
    {
     "data": {
      "text/plain": [
       "294.3413352507642"
      ]
     },
     "execution_count": 84,
     "metadata": {},
     "output_type": "execute_result"
    }
   ],
   "source": [
    "gb_reg_nz = GradientBoostingRegressor(random_state=10)\n",
    "gb_reg_nz.fit(vic_sub_train_set_nzero_attributes_prepared, vic_sub_train_set_nzero_labels)\n",
    "vic_val_set_predictions_gbrnz = gb_reg_nz.predict(vic_val_set_attributes_prepared)\n",
    "rmse_gb_reg_nz = np.sqrt(mean_squared_error(vic_val_set_labels,vic_val_set_predictions_gbrnz))\n",
    "rmse_gb_reg_nz"
   ]
  },
  {
   "cell_type": "markdown",
   "metadata": {},
   "source": [
    "Validation with hypertuned parameters"
   ]
  },
  {
   "cell_type": "code",
   "execution_count": 85,
   "metadata": {},
   "outputs": [
    {
     "data": {
      "text/plain": [
       "280.14410799726113"
      ]
     },
     "execution_count": 85,
     "metadata": {},
     "output_type": "execute_result"
    }
   ],
   "source": [
    "gb_reg_nz_gs = GradientBoostingRegressor(learning_rate=0.05,n_estimators=200,subsample=0.8,max_features='log2',\n",
    "                                      min_samples_leaf=7,min_samples_split=2,max_depth=1,random_state=10)\n",
    "gb_reg_nz_gs.fit(vic_sub_train_set_nzero_attributes_prepared, vic_sub_train_set_nzero_labels)\n",
    "vic_val_set_predictions_gbrnz = gb_reg_nz_gs.predict(vic_val_set_attributes_prepared)\n",
    "rmse_gb_reg_nz = np.sqrt(mean_squared_error(vic_val_set_labels,vic_val_set_predictions_gbrnz))\n",
    "rmse_gb_reg_nz"
   ]
  },
  {
   "cell_type": "markdown",
   "metadata": {},
   "source": [
    "**5. Comparision of the Regression Models**"
   ]
  },
  {
   "cell_type": "markdown",
   "metadata": {},
   "source": [
    "| Model | Baseline RMSE | Hypertuned RMSE |\n",
    "| :--- | :--- | :--- |\n",
    "| Linear Regression | 279.2861035959401 | 279.2861035959401 |\n",
    "| Ridge Regression | 278.73579801273553 | 278.73579801273553 |\n",
    "| Randomforest Regression | 350.6498191432635 | 285.66469504694635 |\n",
    "| Gradient Tree Boosting Regression | 294.3413352507642 | 280.14410799726113 |"
   ]
  },
  {
   "cell_type": "markdown",
   "metadata": {},
   "source": [
    "Ridge Regression has the low RMSE, we will see if it outperforms when combined with the classifier.  "
   ]
  },
  {
   "cell_type": "markdown",
   "metadata": {},
   "source": [
    "### **c. Tandem model with both binary classifier and a regression model**"
   ]
  },
  {
   "cell_type": "markdown",
   "metadata": {},
   "source": [
    "**1. Combination of Randomforest classifier and Regression models**"
   ]
  },
  {
   "cell_type": "code",
   "execution_count": 86,
   "metadata": {},
   "outputs": [
    {
     "data": {
      "text/plain": [
       "0.5678391959798995"
      ]
     },
     "execution_count": 86,
     "metadata": {},
     "output_type": "execute_result"
    }
   ],
   "source": [
    "vic_val_set_predictions_rfc = rf_cls_gs.predict(vic_val_set_attributes_prepared)\n",
    "\n",
    "rf_cla_score = rf_cls_gs.score(vic_val_set_attributes_prepared,vic_val_set_labels_prepared)\n",
    "rf_cla_score"
   ]
  },
  {
   "cell_type": "code",
   "execution_count": 87,
   "metadata": {},
   "outputs": [],
   "source": [
    "vic_val_set_tandem = vic_val_set.copy()\n",
    "vic_val_set_tandem[\"Claim\"] = vic_val_set_predictions_rfc.tolist()\n",
    "vic_val_set_tandem[\"Predicted_Claim_Amount\"] = vic_val_set_tandem[\"Claim\"]\n",
    "vic_val_set_tandem[\"Predicted_Claim_Amount\"] = 0.0\n",
    "vic_val_set_ze_cl = vic_val_set_tandem[vic_val_set_tandem.Claim == \"Zero\"]\n",
    "vic_val_set_ze_cl_actual = vic_val_set_ze_cl.Claim_Amount.tolist()\n",
    "vic_val_set_ze_cl_prediction = vic_val_set_ze_cl.Predicted_Claim_Amount.tolist()\n",
    "\n",
    "vic_val_set_nz_reg = vic_val_set_tandem[vic_val_set_tandem.Claim != \"Zero\"]\n",
    "vic_val_set_nz_reg_actual = vic_val_set_nz_reg.Claim_Amount.tolist()\n",
    "vic_val_set_nz_reg_attributes = vic_val_set_nz_reg.drop(columns=['Claim_Amount','Claim','Predicted_Claim_Amount'], axis=1)\n",
    "vic_val_set_nz_reg_labels = vic_val_set_nz_reg['Claim_Amount']\n",
    "\n",
    "vic_val_set_nz_reg_attributes = full_transform.transform(vic_val_set_nz_reg_attributes)\n",
    "whole_tandem_labels = np.hstack((vic_val_set_ze_cl_actual,vic_val_set_nz_reg_actual))"
   ]
  },
  {
   "cell_type": "markdown",
   "metadata": {},
   "source": [
    "**1.1 Linear Regression**"
   ]
  },
  {
   "cell_type": "code",
   "execution_count": 88,
   "metadata": {},
   "outputs": [
    {
     "data": {
      "text/plain": [
       "266.3396317881859"
      ]
     },
     "execution_count": 88,
     "metadata": {},
     "output_type": "execute_result"
    }
   ],
   "source": [
    "vic_val_set_predictions_lrnz = lin_reg_nz.predict(vic_val_set_nz_reg_attributes)\n",
    "\n",
    "whole_tandem_predictions = np.hstack((vic_val_set_ze_cl_prediction,vic_val_set_predictions_lrnz))\n",
    "\n",
    "rmse_tandem_lr = mean_squared_error(whole_tandem_labels,whole_tandem_predictions, squared=False)\n",
    "rmse_tandem_lr"
   ]
  },
  {
   "cell_type": "markdown",
   "metadata": {},
   "source": [
    "**1.2 Ridge Regression**"
   ]
  },
  {
   "cell_type": "code",
   "execution_count": 89,
   "metadata": {},
   "outputs": [
    {
     "data": {
      "text/plain": [
       "266.57049748290484"
      ]
     },
     "execution_count": 89,
     "metadata": {},
     "output_type": "execute_result"
    }
   ],
   "source": [
    "vic_val_set_predictions_rrnz = rid_reg_nz.predict(vic_val_set_nz_reg_attributes)\n",
    "\n",
    "whole_tandem_predictions = np.hstack((vic_val_set_ze_cl_prediction,vic_val_set_predictions_rrnz))\n",
    "\n",
    "rmse_tandem_rr = np.sqrt(mean_squared_error(whole_tandem_labels,whole_tandem_predictions))\n",
    "rmse_tandem_rr"
   ]
  },
  {
   "cell_type": "markdown",
   "metadata": {},
   "source": [
    "**1.3 Randomforest Regression**"
   ]
  },
  {
   "cell_type": "code",
   "execution_count": 90,
   "metadata": {},
   "outputs": [
    {
     "data": {
      "text/plain": [
       "266.9396814507939"
      ]
     },
     "execution_count": 90,
     "metadata": {},
     "output_type": "execute_result"
    }
   ],
   "source": [
    "vic_val_set_predictions_rfrnz = randfr_reg_nz_gs.predict(vic_val_set_nz_reg_attributes)\n",
    "\n",
    "whole_tandem_predictions = np.hstack((vic_val_set_ze_cl_prediction,vic_val_set_predictions_rfrnz))\n",
    "\n",
    "rmse_tandem_rfr = np.sqrt(mean_squared_error(whole_tandem_labels,whole_tandem_predictions))\n",
    "rmse_tandem_rfr"
   ]
  },
  {
   "cell_type": "markdown",
   "metadata": {},
   "source": [
    "**1.4 Gradient Boosting Regression**"
   ]
  },
  {
   "cell_type": "code",
   "execution_count": 91,
   "metadata": {},
   "outputs": [
    {
     "data": {
      "text/plain": [
       "266.41617092740415"
      ]
     },
     "execution_count": 91,
     "metadata": {},
     "output_type": "execute_result"
    }
   ],
   "source": [
    "vic_val_set_predictions_gbrnz = gb_reg_nz_gs.predict(vic_val_set_nz_reg_attributes)\n",
    "\n",
    "whole_tandem_predictions = np.hstack((vic_val_set_ze_cl_prediction,vic_val_set_predictions_gbrnz))\n",
    "\n",
    "rmse_tandem_gbr = np.sqrt(mean_squared_error(whole_tandem_labels,whole_tandem_predictions))\n",
    "rmse_tandem_gbr"
   ]
  },
  {
   "cell_type": "markdown",
   "metadata": {},
   "source": [
    "**2. Combination of Gradient Boosting classifier and Regression models**"
   ]
  },
  {
   "cell_type": "code",
   "execution_count": 92,
   "metadata": {},
   "outputs": [
    {
     "name": "stdout",
     "output_type": "stream",
     "text": [
      "0.5713181291070738\n"
     ]
    }
   ],
   "source": [
    "vic_val_set_predictions_gbcr = gb_cla.predict(vic_val_set_attributes_prepared)\n",
    "accuracy = accuracy_score(vic_val_set_labels_prepared, vic_val_set_predictions_gbcr)\n",
    "print(accuracy)"
   ]
  },
  {
   "cell_type": "code",
   "execution_count": 93,
   "metadata": {},
   "outputs": [],
   "source": [
    "vic_val_set_tandem = vic_val_set.copy()\n",
    "vic_val_set_tandem[\"Claim\"] = vic_val_set_predictions_gbcr.tolist()\n",
    "vic_val_set_tandem[\"Predicted_Claim_Amount\"] = vic_val_set_tandem[\"Claim\"]\n",
    "vic_val_set_tandem[\"Predicted_Claim_Amount\"] = 0.0\n",
    "vic_val_set_ze_cl = vic_val_set_tandem[vic_val_set_tandem.Claim == \"Zero\"]\n",
    "vic_val_set_ze_cl_actual = vic_val_set_ze_cl.Claim_Amount.tolist()\n",
    "vic_val_set_ze_cl_prediction = vic_val_set_ze_cl.Predicted_Claim_Amount.tolist()\n",
    "\n",
    "vic_val_set_nz_reg = vic_val_set_tandem[vic_val_set_tandem.Claim != \"Zero\"]\n",
    "vic_val_set_nz_reg_actual = vic_val_set_nz_reg.Claim_Amount.tolist()\n",
    "vic_val_set_nz_reg_attributes = vic_val_set_nz_reg.drop(columns=['Claim_Amount','Claim','Predicted_Claim_Amount'], axis=1)\n",
    "vic_val_set_nz_reg_labels = vic_val_set_nz_reg['Claim_Amount']\n",
    "\n",
    "vic_val_set_nz_reg_attributes = full_transform.transform(vic_val_set_nz_reg_attributes)\n",
    "\n",
    "whole_tandem_labels = np.hstack((vic_val_set_ze_cl_actual,vic_val_set_nz_reg_actual))"
   ]
  },
  {
   "cell_type": "markdown",
   "metadata": {},
   "source": [
    "**2.1 Linear Regression**"
   ]
  },
  {
   "cell_type": "code",
   "execution_count": 94,
   "metadata": {},
   "outputs": [
    {
     "data": {
      "text/plain": [
       "264.1977792510173"
      ]
     },
     "execution_count": 94,
     "metadata": {},
     "output_type": "execute_result"
    }
   ],
   "source": [
    "vic_val_set_predictions_lrnz = lin_reg_nz.predict(vic_val_set_nz_reg_attributes)\n",
    "\n",
    "whole_tandem_predictions = np.hstack((vic_val_set_ze_cl_prediction,vic_val_set_predictions_lrnz))\n",
    "\n",
    "rmse_tandem_lr = mean_squared_error(whole_tandem_labels,whole_tandem_predictions, squared=False)\n",
    "rmse_tandem_lr"
   ]
  },
  {
   "cell_type": "markdown",
   "metadata": {},
   "source": [
    "**2.2 Ridge Regression**"
   ]
  },
  {
   "cell_type": "code",
   "execution_count": 95,
   "metadata": {},
   "outputs": [
    {
     "data": {
      "text/plain": [
       "264.6606031569291"
      ]
     },
     "execution_count": 95,
     "metadata": {},
     "output_type": "execute_result"
    }
   ],
   "source": [
    "vic_val_set_predictions_rrnz = rid_reg_nz.predict(vic_val_set_nz_reg_attributes)\n",
    "\n",
    "whole_tandem_predictions = np.hstack((vic_val_set_ze_cl_prediction,vic_val_set_predictions_rrnz))\n",
    "\n",
    "rmse_tandem_rr = np.sqrt(mean_squared_error(whole_tandem_labels,whole_tandem_predictions))\n",
    "rmse_tandem_rr"
   ]
  },
  {
   "cell_type": "markdown",
   "metadata": {},
   "source": [
    "**2.3 Randomforest Regression**"
   ]
  },
  {
   "cell_type": "code",
   "execution_count": 96,
   "metadata": {},
   "outputs": [
    {
     "data": {
      "text/plain": [
       "264.936326613667"
      ]
     },
     "execution_count": 96,
     "metadata": {},
     "output_type": "execute_result"
    }
   ],
   "source": [
    "vic_val_set_predictions_rfrnz = randfr_reg_nz_gs.predict(vic_val_set_nz_reg_attributes)\n",
    "\n",
    "whole_tandem_predictions = np.hstack((vic_val_set_ze_cl_prediction,vic_val_set_predictions_rfrnz))\n",
    "\n",
    "rmse_tandem_rfr = np.sqrt(mean_squared_error(whole_tandem_labels,whole_tandem_predictions))\n",
    "rmse_tandem_rfr"
   ]
  },
  {
   "cell_type": "markdown",
   "metadata": {},
   "source": [
    "**2.4 Gradient Boosting Regression**"
   ]
  },
  {
   "cell_type": "code",
   "execution_count": 97,
   "metadata": {},
   "outputs": [
    {
     "data": {
      "text/plain": [
       "264.0998402489675"
      ]
     },
     "execution_count": 97,
     "metadata": {},
     "output_type": "execute_result"
    }
   ],
   "source": [
    "vic_val_set_predictions_gbrnz = gb_reg_nz_gs.predict(vic_val_set_nz_reg_attributes)\n",
    "\n",
    "whole_tandem_predictions = np.hstack((vic_val_set_ze_cl_prediction,vic_val_set_predictions_gbrnz))\n",
    "\n",
    "rmse_tandem_gbr = np.sqrt(mean_squared_error(whole_tandem_labels,whole_tandem_predictions))\n",
    "rmse_tandem_gbr"
   ]
  },
  {
   "cell_type": "markdown",
   "metadata": {},
   "source": [
    "**3. Performance Report**"
   ]
  },
  {
   "cell_type": "markdown",
   "metadata": {},
   "source": [
    "| Model | Randomforest Classifier (Tandem_RMSE) | Gradient Boosting Classifier (Tandem_RMSE) |\n",
    "| :--- | :---: | :---: |\n",
    "| **Linear Regression** | 266.3396317881859 | 264.1977792510173 |\n",
    "| **Ridge Regression** | 266.57049748290484 | 264.6606031569291 |\n",
    "| **Randomforest Regression** | 266.9396814507939 | 264.936326613667 |\n",
    "| **Gradient Tree Boosting Regression** | 266.41617092740415 | 264.0998402489675 |"
   ]
  },
  {
   "cell_type": "markdown",
   "metadata": {},
   "source": [
    "The combination of baseline **Gradient Boosting classifier** and the **Gradient Boosting Regression** model has given the best RMSE value. One observation is that all the models with a particular classifier has almost the same RMSE value, its just the differnce in the decimal places. "
   ]
  },
  {
   "cell_type": "markdown",
   "metadata": {},
   "source": [
    "# Section 4: Performance of the best models over the test set"
   ]
  },
  {
   "cell_type": "code",
   "execution_count": 98,
   "metadata": {},
   "outputs": [],
   "source": [
    "#vic_test_set.head(10)"
   ]
  },
  {
   "cell_type": "code",
   "execution_count": 99,
   "metadata": {},
   "outputs": [],
   "source": [
    "vic_test_set_attributes = vic_test_set.drop('Claim_Amount', axis=1)\n",
    "vic_test_set_labels = vic_test_set['Claim_Amount']\n",
    "\n",
    "vic_test_set_attributes_prepared = full_transform.transform(vic_test_set_attributes)"
   ]
  },
  {
   "cell_type": "markdown",
   "metadata": {},
   "source": [
    "### 1. Linear Regression"
   ]
  },
  {
   "cell_type": "code",
   "execution_count": 100,
   "metadata": {},
   "outputs": [
    {
     "data": {
      "text/plain": [
       "270.2959119735728"
      ]
     },
     "execution_count": 100,
     "metadata": {},
     "output_type": "execute_result"
    }
   ],
   "source": [
    "vic_test_set_labels_predicted = lin_reg.predict(vic_test_set_attributes_prepared)\n",
    "\n",
    "rmse_test_lr = mean_squared_error(vic_test_set_labels,vic_test_set_labels_predicted, squared=False)\n",
    "rmse_test_lr"
   ]
  },
  {
   "cell_type": "markdown",
   "metadata": {},
   "source": [
    "### 2. Tandem Model (Gradient Boosting Classifier and Linear Regression)"
   ]
  },
  {
   "cell_type": "code",
   "execution_count": 101,
   "metadata": {},
   "outputs": [],
   "source": [
    "vic_test_set_predictions_gbcr = gb_cla.predict(vic_test_set_attributes_prepared)\n",
    "#accuracy = accuracy_score(vic_val_set_labels_prepared, vic_val_set_predictions_gbcr)\n",
    "#print(accuracy)"
   ]
  },
  {
   "cell_type": "code",
   "execution_count": 102,
   "metadata": {},
   "outputs": [],
   "source": [
    "vic_test_set_tandem = vic_test_set.copy()\n",
    "vic_test_set_tandem[\"Claim\"] = vic_test_set_predictions_gbcr.tolist()\n",
    "vic_test_set_tandem[\"Predicted_Claim_Amount\"] = vic_test_set_tandem[\"Claim\"]\n",
    "vic_test_set_tandem[\"Predicted_Claim_Amount\"] = 0.0\n",
    "vic_test_set_ze_cl = vic_test_set_tandem[vic_test_set_tandem.Claim == \"Zero\"]\n",
    "vic_test_set_ze_cl_actual = vic_test_set_ze_cl.Claim_Amount.tolist()\n",
    "vic_test_set_ze_cl_prediction = vic_test_set_ze_cl.Predicted_Claim_Amount.tolist()\n",
    "\n",
    "vic_test_set_nz_reg = vic_test_set_tandem[vic_test_set_tandem.Claim != \"Zero\"]\n",
    "vic_test_set_nz_reg_actual = vic_test_set_nz_reg.Claim_Amount.tolist()\n",
    "vic_test_set_nz_reg_attributes = vic_test_set_nz_reg.drop(columns=['Claim_Amount','Claim','Predicted_Claim_Amount'], axis=1)\n",
    "vic_test_set_nz_reg_labels = vic_test_set_nz_reg['Claim_Amount']\n",
    "\n",
    "vic_test_set_nz_reg_attributes = full_transform.transform(vic_test_set_nz_reg_attributes)\n",
    "\n",
    "whole_tandem_labels = np.hstack((vic_test_set_ze_cl_actual,vic_test_set_nz_reg_actual))"
   ]
  },
  {
   "cell_type": "code",
   "execution_count": 103,
   "metadata": {},
   "outputs": [
    {
     "data": {
      "text/plain": [
       "276.7575508012237"
      ]
     },
     "execution_count": 103,
     "metadata": {},
     "output_type": "execute_result"
    }
   ],
   "source": [
    "vic_test_set_predictions_gbnz = gb_reg_nz_gs.predict(vic_test_set_nz_reg_attributes)\n",
    "\n",
    "whole_tandem_predictions = np.hstack((vic_test_set_ze_cl_prediction,vic_test_set_predictions_gbnz))\n",
    "\n",
    "rmse_test_tandem_gb = mean_squared_error(whole_tandem_labels,whole_tandem_predictions, squared=False)\n",
    "rmse_test_tandem_gb"
   ]
  },
  {
   "cell_type": "markdown",
   "metadata": {},
   "source": [
    "### 3. Performance Report"
   ]
  },
  {
   "cell_type": "markdown",
   "metadata": {},
   "source": [
    "| Model | RMSE |\n",
    "| :--- | :---: |\n",
    "| **Linear Regression** | 270.2959119735728 |\n",
    "| **Tandem Model** | 276.7575508012237 |"
   ]
  },
  {
   "cell_type": "markdown",
   "metadata": {},
   "source": [
    "Linear Regression model has got low RMSE on the test set. We will use the same model to predict the insurance claim amount for the new vehicle data."
   ]
  },
  {
   "cell_type": "markdown",
   "metadata": {},
   "source": [
    "# Section 5: Conclusion and Observations"
   ]
  },
  {
   "cell_type": "markdown",
   "metadata": {},
   "source": [
    "The main objective of the assignment is to develop a predictive model to predict the insurance claim payments based on the vehicle characteristics. The predictive models were developed using the Machine Learning techniques, Regression and combination of Classification and Regression and the metrics were reported. Below are some of the observations in terms of the performance of different models on RMSE and accuracy score, and other aspects related to the dataset.\n",
    "\n",
    "1. Linear Regression model gave the best RMSE value over the validation set and the test set. Overall linear regression has the lowest RMSE than the other tuned models build by gridsearch. we didn't apply any scaling for the features, we might achieve a better score by applying transformations to the numeric features and the target variable. \n",
    "\n",
    "2. Standalone Regression Models has low RMSE compared to 'Regression models to predict only Non-zero claim_amount' and the 'tandem models'. Tandem models gave better RMSE score than 'Regression models to predict Non-zero claims', as the classifiers predicted zeros correctly than the Non zeros. From this we can clearly see that if the data is imbalanced or if the model is predicting more zeros then the RMSE value is low.  \n",
    "\n",
    "3. Random forest models gave better performance with the tuned parameters, so if we tune the parameters for ensemble models we can achieve better results.\n",
    "\n",
    "4. The accuracy score for classification models is low as the data has been resampled. We can try hypertuning the parameters based on other scoring metrics like balanced_accuracy, precision, recall, etc.. to see if the classifiers can seperate the zero and Non zero classes well.     \n",
    "\n",
    "5. We have removed Blind_make, Blind_model and Blind_submodel features from the model instead we can try clustering the features  to differnt categories like High-end, mid-range and low-end etc.. based on the claim_amount. The price of the vehicle which is missing in the data, should have been a key information to factorise multiple features and also to predict the claim_amount.  "
   ]
  },
  {
   "cell_type": "markdown",
   "metadata": {},
   "source": [
    "# Section 6: Performance of final model over the independent test set"
   ]
  },
  {
   "cell_type": "code",
   "execution_count": 104,
   "metadata": {},
   "outputs": [],
   "source": [
    "def my_insurance_claim_predictor(Xtest):\n",
    "    test_sub_set = Xtest.drop(columns=[\"Row_ID\",\"Calendar_Year\",\"Blind_Make\",\"Blind_Model\",\"Blind_Submodel\",\"Cat2\",\"Cat4\",\"Cat5\",\"Cat7\",\"Var2\",\"Var8\",\"NVVar1\",\"NVVar3\",\"NVVar4\",\"Cat1\",\"Cat11\",\"Cat12\",\"OrdCat\",\"NVCat\"],axis=1)\n",
    "    for i in ['Cat3', 'Cat6', 'Cat8', 'Cat9', 'Cat10']:\n",
    "        test_sub_set[i] = test_sub_set[i].fillna(test_sub_set[i].value_counts().index[0])\n",
    "        test_sub_set[i] = test_sub_set[i].replace('?',test_sub_set[i].value_counts().index[0])\n",
    "    for col in ['Household_ID','Vehicle','Model_Year']:\n",
    "        test_sub_set[col] = test_sub_set[col].astype('float64')\n",
    "    vic_Xtest_attributes = test_sub_set\n",
    "    if 'Claim_Amount' in test_sub_set:\n",
    "        vic_Xtest_attributes = test_sub_set.drop('Claim_Amount', axis=1)\n",
    "    vic_Xtest_attributes_prepared = full_transform.transform(vic_Xtest_attributes)\n",
    "    vic_Xtest_labels_predicted = lin_reg.predict(vic_Xtest_attributes_prepared)\n",
    "    return vic_Xtest_labels_predicted"
   ]
  },
  {
   "cell_type": "code",
   "execution_count": 105,
   "metadata": {},
   "outputs": [],
   "source": [
    "Xtest = pd.read_csv('./data/test.csv', encoding= 'unicode_escape')"
   ]
  },
  {
   "cell_type": "code",
   "execution_count": 106,
   "metadata": {},
   "outputs": [],
   "source": [
    "#prediction = my_insurance_claim_predictor(Xtest)"
   ]
  },
  {
   "cell_type": "markdown",
   "metadata": {},
   "source": [
    "Please uncomment the above line to excute the function for predicting the claim_amount."
   ]
  },
  {
   "cell_type": "code",
   "execution_count": 107,
   "metadata": {},
   "outputs": [],
   "source": [
    "#vic_Xtest_labels = Xtest['Claim_Amount']\n",
    "#rmse_final = mean_squared_error(vic_Xtest_labels,prediction, squared=False)\n",
    "#rmse_final"
   ]
  },
  {
   "cell_type": "markdown",
   "metadata": {},
   "source": [
    "# Section 7: References"
   ]
  },
  {
   "cell_type": "markdown",
   "metadata": {},
   "source": [
    "**Reference List:**\n",
    "\n",
    "1. Lab 2 - End-to-end Project in ML\n",
    "2. Lab 3 - Linear Regression\n",
    "3. Lab 4 - Decission tress and ensemble methods\n",
    "\n",
    "4. API Reference: https://scikit-learn.org/stable/modules/classes.html#\n",
    "\n",
    "5. Aditya Patil, 2018\n",
    "   \"Dealing with imbalanced data\" from https://medium.com/@patiladitya81295/dealing-with-imbalance-data-1bacc7d68dff\n",
    "\n",
    "6. Ye Wu & Rick Radewagen, 2017 \n",
    "   \"7 techniques to handle imbalanced data\" from https://www.kdnuggets.com/2017/06/7-techniques-handle-imbalanced-data.html\n",
    "\n",
    "7. Will Koehrsen, 2018\n",
    "   \"Hyperparameter Tuning the Random Forest in Python\" from \n",
    "   https://towardsdatascience.com/hyperparameter-tuning-the-random-forest-in-python-using-scikit-learn-28d2aa77dd74"
   ]
  }
 ],
 "metadata": {
  "colab": {
   "collapsed_sections": [],
   "name": "Copy of Assignment 1",
   "provenance": [],
   "toc_visible": true
  },
  "kernelspec": {
   "display_name": "Python 3",
   "language": "python",
   "name": "python3"
  },
  "language_info": {
   "codemirror_mode": {
    "name": "ipython",
    "version": 3
   },
   "file_extension": ".py",
   "mimetype": "text/x-python",
   "name": "python",
   "nbconvert_exporter": "python",
   "pygments_lexer": "ipython3",
   "version": "3.8.8"
  }
 },
 "nbformat": 4,
 "nbformat_minor": 1
}
